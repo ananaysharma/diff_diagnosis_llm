{
  "cells": [
    {
      "cell_type": "code",
      "execution_count": 103,
      "metadata": {
        "colab": {
          "base_uri": "https://localhost:8080/"
        },
        "id": "E2JgJxymyo65",
        "outputId": "267b0bbc-53ef-4a76-c6d7-66a171d39db0"
      },
      "outputs": [
        {
          "name": "stderr",
          "output_type": "stream",
          "text": [
            "llama_model_loader: loaded meta data with 23 key-value pairs and 291 tensors from ./model/pubmedqaa-medilora-Q3_K_L.gguf (version GGUF V3 (latest))\n",
            "llama_model_loader: - tensor    0:                token_embd.weight q3_K     [  4096, 32002,     1,     1 ]\n",
            "llama_model_loader: - tensor    1:           blk.0.attn_norm.weight f32      [  4096,     1,     1,     1 ]\n",
            "llama_model_loader: - tensor    2:            blk.0.ffn_down.weight q5_K     [ 14336,  4096,     1,     1 ]\n",
            "llama_model_loader: - tensor    3:            blk.0.ffn_gate.weight q3_K     [  4096, 14336,     1,     1 ]\n",
            "llama_model_loader: - tensor    4:              blk.0.ffn_up.weight q3_K     [  4096, 14336,     1,     1 ]\n",
            "llama_model_loader: - tensor    5:            blk.0.ffn_norm.weight f32      [  4096,     1,     1,     1 ]\n",
            "llama_model_loader: - tensor    6:              blk.0.attn_k.weight q3_K     [  4096,  1024,     1,     1 ]\n",
            "llama_model_loader: - tensor    7:         blk.0.attn_output.weight q5_K     [  4096,  4096,     1,     1 ]\n",
            "llama_model_loader: - tensor    8:              blk.0.attn_q.weight q3_K     [  4096,  4096,     1,     1 ]\n",
            "llama_model_loader: - tensor    9:              blk.0.attn_v.weight q5_K     [  4096,  1024,     1,     1 ]\n",
            "llama_model_loader: - tensor   10:           blk.1.attn_norm.weight f32      [  4096,     1,     1,     1 ]\n",
            "llama_model_loader: - tensor   11:            blk.1.ffn_down.weight q5_K     [ 14336,  4096,     1,     1 ]\n",
            "llama_model_loader: - tensor   12:            blk.1.ffn_gate.weight q3_K     [  4096, 14336,     1,     1 ]\n",
            "llama_model_loader: - tensor   13:              blk.1.ffn_up.weight q3_K     [  4096, 14336,     1,     1 ]\n",
            "llama_model_loader: - tensor   14:            blk.1.ffn_norm.weight f32      [  4096,     1,     1,     1 ]\n",
            "llama_model_loader: - tensor   15:              blk.1.attn_k.weight q3_K     [  4096,  1024,     1,     1 ]\n",
            "llama_model_loader: - tensor   16:         blk.1.attn_output.weight q5_K     [  4096,  4096,     1,     1 ]\n",
            "llama_model_loader: - tensor   17:              blk.1.attn_q.weight q3_K     [  4096,  4096,     1,     1 ]\n",
            "llama_model_loader: - tensor   18:              blk.1.attn_v.weight q5_K     [  4096,  1024,     1,     1 ]\n",
            "llama_model_loader: - tensor   19:           blk.10.ffn_gate.weight q3_K     [  4096, 14336,     1,     1 ]\n",
            "llama_model_loader: - tensor   20:             blk.10.ffn_up.weight q3_K     [  4096, 14336,     1,     1 ]\n",
            "llama_model_loader: - tensor   21:             blk.10.attn_k.weight q3_K     [  4096,  1024,     1,     1 ]\n",
            "llama_model_loader: - tensor   22:        blk.10.attn_output.weight q5_K     [  4096,  4096,     1,     1 ]\n",
            "llama_model_loader: - tensor   23:             blk.10.attn_q.weight q3_K     [  4096,  4096,     1,     1 ]\n",
            "llama_model_loader: - tensor   24:             blk.10.attn_v.weight q5_K     [  4096,  1024,     1,     1 ]\n",
            "llama_model_loader: - tensor   25:           blk.2.attn_norm.weight f32      [  4096,     1,     1,     1 ]\n",
            "llama_model_loader: - tensor   26:            blk.2.ffn_down.weight q5_K     [ 14336,  4096,     1,     1 ]\n",
            "llama_model_loader: - tensor   27:            blk.2.ffn_gate.weight q3_K     [  4096, 14336,     1,     1 ]\n",
            "llama_model_loader: - tensor   28:              blk.2.ffn_up.weight q3_K     [  4096, 14336,     1,     1 ]\n",
            "llama_model_loader: - tensor   29:            blk.2.ffn_norm.weight f32      [  4096,     1,     1,     1 ]\n",
            "llama_model_loader: - tensor   30:              blk.2.attn_k.weight q3_K     [  4096,  1024,     1,     1 ]\n",
            "llama_model_loader: - tensor   31:         blk.2.attn_output.weight q5_K     [  4096,  4096,     1,     1 ]\n",
            "llama_model_loader: - tensor   32:              blk.2.attn_q.weight q3_K     [  4096,  4096,     1,     1 ]\n",
            "llama_model_loader: - tensor   33:              blk.2.attn_v.weight q5_K     [  4096,  1024,     1,     1 ]\n",
            "llama_model_loader: - tensor   34:           blk.3.attn_norm.weight f32      [  4096,     1,     1,     1 ]\n",
            "llama_model_loader: - tensor   35:            blk.3.ffn_down.weight q5_K     [ 14336,  4096,     1,     1 ]\n",
            "llama_model_loader: - tensor   36:            blk.3.ffn_gate.weight q3_K     [  4096, 14336,     1,     1 ]\n",
            "llama_model_loader: - tensor   37:              blk.3.ffn_up.weight q3_K     [  4096, 14336,     1,     1 ]\n",
            "llama_model_loader: - tensor   38:            blk.3.ffn_norm.weight f32      [  4096,     1,     1,     1 ]\n",
            "llama_model_loader: - tensor   39:              blk.3.attn_k.weight q3_K     [  4096,  1024,     1,     1 ]\n",
            "llama_model_loader: - tensor   40:         blk.3.attn_output.weight q5_K     [  4096,  4096,     1,     1 ]\n",
            "llama_model_loader: - tensor   41:              blk.3.attn_q.weight q3_K     [  4096,  4096,     1,     1 ]\n",
            "llama_model_loader: - tensor   42:              blk.3.attn_v.weight q5_K     [  4096,  1024,     1,     1 ]\n",
            "llama_model_loader: - tensor   43:           blk.4.attn_norm.weight f32      [  4096,     1,     1,     1 ]\n",
            "llama_model_loader: - tensor   44:            blk.4.ffn_down.weight q5_K     [ 14336,  4096,     1,     1 ]\n",
            "llama_model_loader: - tensor   45:            blk.4.ffn_gate.weight q3_K     [  4096, 14336,     1,     1 ]\n",
            "llama_model_loader: - tensor   46:              blk.4.ffn_up.weight q3_K     [  4096, 14336,     1,     1 ]\n",
            "llama_model_loader: - tensor   47:            blk.4.ffn_norm.weight f32      [  4096,     1,     1,     1 ]\n",
            "llama_model_loader: - tensor   48:              blk.4.attn_k.weight q3_K     [  4096,  1024,     1,     1 ]\n",
            "llama_model_loader: - tensor   49:         blk.4.attn_output.weight q5_K     [  4096,  4096,     1,     1 ]\n",
            "llama_model_loader: - tensor   50:              blk.4.attn_q.weight q3_K     [  4096,  4096,     1,     1 ]\n",
            "llama_model_loader: - tensor   51:              blk.4.attn_v.weight q5_K     [  4096,  1024,     1,     1 ]\n",
            "llama_model_loader: - tensor   52:           blk.5.attn_norm.weight f32      [  4096,     1,     1,     1 ]\n",
            "llama_model_loader: - tensor   53:            blk.5.ffn_down.weight q5_K     [ 14336,  4096,     1,     1 ]\n",
            "llama_model_loader: - tensor   54:            blk.5.ffn_gate.weight q3_K     [  4096, 14336,     1,     1 ]\n",
            "llama_model_loader: - tensor   55:              blk.5.ffn_up.weight q3_K     [  4096, 14336,     1,     1 ]\n",
            "llama_model_loader: - tensor   56:            blk.5.ffn_norm.weight f32      [  4096,     1,     1,     1 ]\n",
            "llama_model_loader: - tensor   57:              blk.5.attn_k.weight q3_K     [  4096,  1024,     1,     1 ]\n",
            "llama_model_loader: - tensor   58:         blk.5.attn_output.weight q5_K     [  4096,  4096,     1,     1 ]\n",
            "llama_model_loader: - tensor   59:              blk.5.attn_q.weight q3_K     [  4096,  4096,     1,     1 ]\n",
            "llama_model_loader: - tensor   60:              blk.5.attn_v.weight q5_K     [  4096,  1024,     1,     1 ]\n",
            "llama_model_loader: - tensor   61:           blk.6.attn_norm.weight f32      [  4096,     1,     1,     1 ]\n",
            "llama_model_loader: - tensor   62:            blk.6.ffn_down.weight q5_K     [ 14336,  4096,     1,     1 ]\n",
            "llama_model_loader: - tensor   63:            blk.6.ffn_gate.weight q3_K     [  4096, 14336,     1,     1 ]\n",
            "llama_model_loader: - tensor   64:              blk.6.ffn_up.weight q3_K     [  4096, 14336,     1,     1 ]\n",
            "llama_model_loader: - tensor   65:            blk.6.ffn_norm.weight f32      [  4096,     1,     1,     1 ]\n",
            "llama_model_loader: - tensor   66:              blk.6.attn_k.weight q3_K     [  4096,  1024,     1,     1 ]\n",
            "llama_model_loader: - tensor   67:         blk.6.attn_output.weight q5_K     [  4096,  4096,     1,     1 ]\n",
            "llama_model_loader: - tensor   68:              blk.6.attn_q.weight q3_K     [  4096,  4096,     1,     1 ]\n",
            "llama_model_loader: - tensor   69:              blk.6.attn_v.weight q5_K     [  4096,  1024,     1,     1 ]\n",
            "llama_model_loader: - tensor   70:           blk.7.attn_norm.weight f32      [  4096,     1,     1,     1 ]\n",
            "llama_model_loader: - tensor   71:            blk.7.ffn_down.weight q5_K     [ 14336,  4096,     1,     1 ]\n",
            "llama_model_loader: - tensor   72:            blk.7.ffn_gate.weight q3_K     [  4096, 14336,     1,     1 ]\n",
            "llama_model_loader: - tensor   73:              blk.7.ffn_up.weight q3_K     [  4096, 14336,     1,     1 ]\n",
            "llama_model_loader: - tensor   74:            blk.7.ffn_norm.weight f32      [  4096,     1,     1,     1 ]\n",
            "llama_model_loader: - tensor   75:              blk.7.attn_k.weight q3_K     [  4096,  1024,     1,     1 ]\n",
            "llama_model_loader: - tensor   76:         blk.7.attn_output.weight q5_K     [  4096,  4096,     1,     1 ]\n",
            "llama_model_loader: - tensor   77:              blk.7.attn_q.weight q3_K     [  4096,  4096,     1,     1 ]\n",
            "llama_model_loader: - tensor   78:              blk.7.attn_v.weight q5_K     [  4096,  1024,     1,     1 ]\n",
            "llama_model_loader: - tensor   79:           blk.8.attn_norm.weight f32      [  4096,     1,     1,     1 ]\n",
            "llama_model_loader: - tensor   80:            blk.8.ffn_down.weight q5_K     [ 14336,  4096,     1,     1 ]\n",
            "llama_model_loader: - tensor   81:            blk.8.ffn_gate.weight q3_K     [  4096, 14336,     1,     1 ]\n",
            "llama_model_loader: - tensor   82:              blk.8.ffn_up.weight q3_K     [  4096, 14336,     1,     1 ]\n",
            "llama_model_loader: - tensor   83:            blk.8.ffn_norm.weight f32      [  4096,     1,     1,     1 ]\n",
            "llama_model_loader: - tensor   84:              blk.8.attn_k.weight q3_K     [  4096,  1024,     1,     1 ]\n",
            "llama_model_loader: - tensor   85:         blk.8.attn_output.weight q5_K     [  4096,  4096,     1,     1 ]\n",
            "llama_model_loader: - tensor   86:              blk.8.attn_q.weight q3_K     [  4096,  4096,     1,     1 ]\n",
            "llama_model_loader: - tensor   87:              blk.8.attn_v.weight q5_K     [  4096,  1024,     1,     1 ]\n",
            "llama_model_loader: - tensor   88:           blk.9.attn_norm.weight f32      [  4096,     1,     1,     1 ]\n",
            "llama_model_loader: - tensor   89:            blk.9.ffn_down.weight q5_K     [ 14336,  4096,     1,     1 ]\n",
            "llama_model_loader: - tensor   90:            blk.9.ffn_gate.weight q3_K     [  4096, 14336,     1,     1 ]\n",
            "llama_model_loader: - tensor   91:              blk.9.ffn_up.weight q3_K     [  4096, 14336,     1,     1 ]\n",
            "llama_model_loader: - tensor   92:            blk.9.ffn_norm.weight f32      [  4096,     1,     1,     1 ]\n",
            "llama_model_loader: - tensor   93:              blk.9.attn_k.weight q3_K     [  4096,  1024,     1,     1 ]\n",
            "llama_model_loader: - tensor   94:         blk.9.attn_output.weight q5_K     [  4096,  4096,     1,     1 ]\n",
            "llama_model_loader: - tensor   95:              blk.9.attn_q.weight q3_K     [  4096,  4096,     1,     1 ]\n",
            "llama_model_loader: - tensor   96:              blk.9.attn_v.weight q5_K     [  4096,  1024,     1,     1 ]\n",
            "llama_model_loader: - tensor   97:          blk.10.attn_norm.weight f32      [  4096,     1,     1,     1 ]\n",
            "llama_model_loader: - tensor   98:           blk.10.ffn_down.weight q5_K     [ 14336,  4096,     1,     1 ]\n",
            "llama_model_loader: - tensor   99:           blk.10.ffn_norm.weight f32      [  4096,     1,     1,     1 ]\n",
            "llama_model_loader: - tensor  100:          blk.11.attn_norm.weight f32      [  4096,     1,     1,     1 ]\n",
            "llama_model_loader: - tensor  101:           blk.11.ffn_down.weight q5_K     [ 14336,  4096,     1,     1 ]\n",
            "llama_model_loader: - tensor  102:           blk.11.ffn_gate.weight q3_K     [  4096, 14336,     1,     1 ]\n",
            "llama_model_loader: - tensor  103:             blk.11.ffn_up.weight q3_K     [  4096, 14336,     1,     1 ]\n",
            "llama_model_loader: - tensor  104:           blk.11.ffn_norm.weight f32      [  4096,     1,     1,     1 ]\n",
            "llama_model_loader: - tensor  105:             blk.11.attn_k.weight q3_K     [  4096,  1024,     1,     1 ]\n",
            "llama_model_loader: - tensor  106:        blk.11.attn_output.weight q5_K     [  4096,  4096,     1,     1 ]\n",
            "llama_model_loader: - tensor  107:             blk.11.attn_q.weight q3_K     [  4096,  4096,     1,     1 ]\n",
            "llama_model_loader: - tensor  108:             blk.11.attn_v.weight q5_K     [  4096,  1024,     1,     1 ]\n",
            "llama_model_loader: - tensor  109:          blk.12.attn_norm.weight f32      [  4096,     1,     1,     1 ]\n",
            "llama_model_loader: - tensor  110:           blk.12.ffn_down.weight q5_K     [ 14336,  4096,     1,     1 ]\n",
            "llama_model_loader: - tensor  111:           blk.12.ffn_gate.weight q3_K     [  4096, 14336,     1,     1 ]\n",
            "llama_model_loader: - tensor  112:             blk.12.ffn_up.weight q3_K     [  4096, 14336,     1,     1 ]\n",
            "llama_model_loader: - tensor  113:           blk.12.ffn_norm.weight f32      [  4096,     1,     1,     1 ]\n",
            "llama_model_loader: - tensor  114:             blk.12.attn_k.weight q3_K     [  4096,  1024,     1,     1 ]\n",
            "llama_model_loader: - tensor  115:        blk.12.attn_output.weight q5_K     [  4096,  4096,     1,     1 ]\n",
            "llama_model_loader: - tensor  116:             blk.12.attn_q.weight q3_K     [  4096,  4096,     1,     1 ]\n",
            "llama_model_loader: - tensor  117:             blk.12.attn_v.weight q5_K     [  4096,  1024,     1,     1 ]\n",
            "llama_model_loader: - tensor  118:          blk.13.attn_norm.weight f32      [  4096,     1,     1,     1 ]\n",
            "llama_model_loader: - tensor  119:           blk.13.ffn_down.weight q5_K     [ 14336,  4096,     1,     1 ]\n",
            "llama_model_loader: - tensor  120:           blk.13.ffn_gate.weight q3_K     [  4096, 14336,     1,     1 ]\n",
            "llama_model_loader: - tensor  121:             blk.13.ffn_up.weight q3_K     [  4096, 14336,     1,     1 ]\n",
            "llama_model_loader: - tensor  122:           blk.13.ffn_norm.weight f32      [  4096,     1,     1,     1 ]\n",
            "llama_model_loader: - tensor  123:             blk.13.attn_k.weight q3_K     [  4096,  1024,     1,     1 ]\n",
            "llama_model_loader: - tensor  124:        blk.13.attn_output.weight q5_K     [  4096,  4096,     1,     1 ]\n",
            "llama_model_loader: - tensor  125:             blk.13.attn_q.weight q3_K     [  4096,  4096,     1,     1 ]\n",
            "llama_model_loader: - tensor  126:             blk.13.attn_v.weight q5_K     [  4096,  1024,     1,     1 ]\n",
            "llama_model_loader: - tensor  127:          blk.14.attn_norm.weight f32      [  4096,     1,     1,     1 ]\n",
            "llama_model_loader: - tensor  128:           blk.14.ffn_down.weight q5_K     [ 14336,  4096,     1,     1 ]\n",
            "llama_model_loader: - tensor  129:           blk.14.ffn_gate.weight q3_K     [  4096, 14336,     1,     1 ]\n",
            "llama_model_loader: - tensor  130:             blk.14.ffn_up.weight q3_K     [  4096, 14336,     1,     1 ]\n",
            "llama_model_loader: - tensor  131:           blk.14.ffn_norm.weight f32      [  4096,     1,     1,     1 ]\n",
            "llama_model_loader: - tensor  132:             blk.14.attn_k.weight q3_K     [  4096,  1024,     1,     1 ]\n",
            "llama_model_loader: - tensor  133:        blk.14.attn_output.weight q5_K     [  4096,  4096,     1,     1 ]\n",
            "llama_model_loader: - tensor  134:             blk.14.attn_q.weight q3_K     [  4096,  4096,     1,     1 ]\n",
            "llama_model_loader: - tensor  135:             blk.14.attn_v.weight q5_K     [  4096,  1024,     1,     1 ]\n",
            "llama_model_loader: - tensor  136:          blk.15.attn_norm.weight f32      [  4096,     1,     1,     1 ]\n",
            "llama_model_loader: - tensor  137:           blk.15.ffn_down.weight q5_K     [ 14336,  4096,     1,     1 ]\n",
            "llama_model_loader: - tensor  138:           blk.15.ffn_gate.weight q3_K     [  4096, 14336,     1,     1 ]\n",
            "llama_model_loader: - tensor  139:             blk.15.ffn_up.weight q3_K     [  4096, 14336,     1,     1 ]\n",
            "llama_model_loader: - tensor  140:           blk.15.ffn_norm.weight f32      [  4096,     1,     1,     1 ]\n",
            "llama_model_loader: - tensor  141:             blk.15.attn_k.weight q3_K     [  4096,  1024,     1,     1 ]\n",
            "llama_model_loader: - tensor  142:        blk.15.attn_output.weight q5_K     [  4096,  4096,     1,     1 ]\n",
            "llama_model_loader: - tensor  143:             blk.15.attn_q.weight q3_K     [  4096,  4096,     1,     1 ]\n",
            "llama_model_loader: - tensor  144:             blk.15.attn_v.weight q5_K     [  4096,  1024,     1,     1 ]\n",
            "llama_model_loader: - tensor  145:          blk.16.attn_norm.weight f32      [  4096,     1,     1,     1 ]\n",
            "llama_model_loader: - tensor  146:           blk.16.ffn_down.weight q5_K     [ 14336,  4096,     1,     1 ]\n",
            "llama_model_loader: - tensor  147:           blk.16.ffn_gate.weight q3_K     [  4096, 14336,     1,     1 ]\n",
            "llama_model_loader: - tensor  148:             blk.16.ffn_up.weight q3_K     [  4096, 14336,     1,     1 ]\n",
            "llama_model_loader: - tensor  149:           blk.16.ffn_norm.weight f32      [  4096,     1,     1,     1 ]\n",
            "llama_model_loader: - tensor  150:             blk.16.attn_k.weight q3_K     [  4096,  1024,     1,     1 ]\n",
            "llama_model_loader: - tensor  151:        blk.16.attn_output.weight q5_K     [  4096,  4096,     1,     1 ]\n",
            "llama_model_loader: - tensor  152:             blk.16.attn_q.weight q3_K     [  4096,  4096,     1,     1 ]\n",
            "llama_model_loader: - tensor  153:             blk.16.attn_v.weight q5_K     [  4096,  1024,     1,     1 ]\n",
            "llama_model_loader: - tensor  154:          blk.17.attn_norm.weight f32      [  4096,     1,     1,     1 ]\n",
            "llama_model_loader: - tensor  155:           blk.17.ffn_down.weight q5_K     [ 14336,  4096,     1,     1 ]\n",
            "llama_model_loader: - tensor  156:           blk.17.ffn_gate.weight q3_K     [  4096, 14336,     1,     1 ]\n",
            "llama_model_loader: - tensor  157:             blk.17.ffn_up.weight q3_K     [  4096, 14336,     1,     1 ]\n",
            "llama_model_loader: - tensor  158:           blk.17.ffn_norm.weight f32      [  4096,     1,     1,     1 ]\n",
            "llama_model_loader: - tensor  159:             blk.17.attn_k.weight q3_K     [  4096,  1024,     1,     1 ]\n",
            "llama_model_loader: - tensor  160:        blk.17.attn_output.weight q5_K     [  4096,  4096,     1,     1 ]\n",
            "llama_model_loader: - tensor  161:             blk.17.attn_q.weight q3_K     [  4096,  4096,     1,     1 ]\n",
            "llama_model_loader: - tensor  162:             blk.17.attn_v.weight q5_K     [  4096,  1024,     1,     1 ]\n",
            "llama_model_loader: - tensor  163:          blk.18.attn_norm.weight f32      [  4096,     1,     1,     1 ]\n",
            "llama_model_loader: - tensor  164:           blk.18.ffn_down.weight q5_K     [ 14336,  4096,     1,     1 ]\n",
            "llama_model_loader: - tensor  165:           blk.18.ffn_gate.weight q3_K     [  4096, 14336,     1,     1 ]\n",
            "llama_model_loader: - tensor  166:             blk.18.ffn_up.weight q3_K     [  4096, 14336,     1,     1 ]\n",
            "llama_model_loader: - tensor  167:           blk.18.ffn_norm.weight f32      [  4096,     1,     1,     1 ]\n",
            "llama_model_loader: - tensor  168:             blk.18.attn_k.weight q3_K     [  4096,  1024,     1,     1 ]\n",
            "llama_model_loader: - tensor  169:        blk.18.attn_output.weight q5_K     [  4096,  4096,     1,     1 ]\n",
            "llama_model_loader: - tensor  170:             blk.18.attn_q.weight q3_K     [  4096,  4096,     1,     1 ]\n",
            "llama_model_loader: - tensor  171:             blk.18.attn_v.weight q5_K     [  4096,  1024,     1,     1 ]\n",
            "llama_model_loader: - tensor  172:          blk.19.attn_norm.weight f32      [  4096,     1,     1,     1 ]\n",
            "llama_model_loader: - tensor  173:           blk.19.ffn_down.weight q5_K     [ 14336,  4096,     1,     1 ]\n",
            "llama_model_loader: - tensor  174:           blk.19.ffn_gate.weight q3_K     [  4096, 14336,     1,     1 ]\n",
            "llama_model_loader: - tensor  175:             blk.19.ffn_up.weight q3_K     [  4096, 14336,     1,     1 ]\n",
            "llama_model_loader: - tensor  176:           blk.19.ffn_norm.weight f32      [  4096,     1,     1,     1 ]\n",
            "llama_model_loader: - tensor  177:             blk.19.attn_k.weight q3_K     [  4096,  1024,     1,     1 ]\n",
            "llama_model_loader: - tensor  178:        blk.19.attn_output.weight q5_K     [  4096,  4096,     1,     1 ]\n",
            "llama_model_loader: - tensor  179:             blk.19.attn_q.weight q3_K     [  4096,  4096,     1,     1 ]\n",
            "llama_model_loader: - tensor  180:             blk.19.attn_v.weight q5_K     [  4096,  1024,     1,     1 ]\n",
            "llama_model_loader: - tensor  181:          blk.20.attn_norm.weight f32      [  4096,     1,     1,     1 ]\n",
            "llama_model_loader: - tensor  182:           blk.20.ffn_down.weight q5_K     [ 14336,  4096,     1,     1 ]\n",
            "llama_model_loader: - tensor  183:           blk.20.ffn_gate.weight q3_K     [  4096, 14336,     1,     1 ]\n",
            "llama_model_loader: - tensor  184:             blk.20.ffn_up.weight q3_K     [  4096, 14336,     1,     1 ]\n",
            "llama_model_loader: - tensor  185:           blk.20.ffn_norm.weight f32      [  4096,     1,     1,     1 ]\n",
            "llama_model_loader: - tensor  186:             blk.20.attn_k.weight q3_K     [  4096,  1024,     1,     1 ]\n",
            "llama_model_loader: - tensor  187:        blk.20.attn_output.weight q5_K     [  4096,  4096,     1,     1 ]\n",
            "llama_model_loader: - tensor  188:             blk.20.attn_q.weight q3_K     [  4096,  4096,     1,     1 ]\n",
            "llama_model_loader: - tensor  189:             blk.20.attn_v.weight q5_K     [  4096,  1024,     1,     1 ]\n",
            "llama_model_loader: - tensor  190:          blk.21.attn_norm.weight f32      [  4096,     1,     1,     1 ]\n",
            "llama_model_loader: - tensor  191:           blk.21.ffn_down.weight q5_K     [ 14336,  4096,     1,     1 ]\n",
            "llama_model_loader: - tensor  192:           blk.21.ffn_gate.weight q3_K     [  4096, 14336,     1,     1 ]\n",
            "llama_model_loader: - tensor  193:             blk.21.ffn_up.weight q3_K     [  4096, 14336,     1,     1 ]\n",
            "llama_model_loader: - tensor  194:           blk.21.ffn_norm.weight f32      [  4096,     1,     1,     1 ]\n",
            "llama_model_loader: - tensor  195:             blk.21.attn_k.weight q3_K     [  4096,  1024,     1,     1 ]\n",
            "llama_model_loader: - tensor  196:        blk.21.attn_output.weight q5_K     [  4096,  4096,     1,     1 ]\n",
            "llama_model_loader: - tensor  197:             blk.21.attn_q.weight q3_K     [  4096,  4096,     1,     1 ]\n",
            "llama_model_loader: - tensor  198:             blk.21.attn_v.weight q5_K     [  4096,  1024,     1,     1 ]\n",
            "llama_model_loader: - tensor  199:             blk.22.attn_k.weight q3_K     [  4096,  1024,     1,     1 ]\n",
            "llama_model_loader: - tensor  200:        blk.22.attn_output.weight q5_K     [  4096,  4096,     1,     1 ]\n",
            "llama_model_loader: - tensor  201:             blk.22.attn_q.weight q3_K     [  4096,  4096,     1,     1 ]\n",
            "llama_model_loader: - tensor  202:             blk.22.attn_v.weight q5_K     [  4096,  1024,     1,     1 ]\n",
            "llama_model_loader: - tensor  203:                    output.weight q6_K     [  4096, 32002,     1,     1 ]\n",
            "llama_model_loader: - tensor  204:          blk.22.attn_norm.weight f32      [  4096,     1,     1,     1 ]\n",
            "llama_model_loader: - tensor  205:           blk.22.ffn_down.weight q5_K     [ 14336,  4096,     1,     1 ]\n",
            "llama_model_loader: - tensor  206:           blk.22.ffn_gate.weight q3_K     [  4096, 14336,     1,     1 ]\n",
            "llama_model_loader: - tensor  207:             blk.22.ffn_up.weight q3_K     [  4096, 14336,     1,     1 ]\n",
            "llama_model_loader: - tensor  208:           blk.22.ffn_norm.weight f32      [  4096,     1,     1,     1 ]\n",
            "llama_model_loader: - tensor  209:          blk.23.attn_norm.weight f32      [  4096,     1,     1,     1 ]\n",
            "llama_model_loader: - tensor  210:           blk.23.ffn_down.weight q5_K     [ 14336,  4096,     1,     1 ]\n",
            "llama_model_loader: - tensor  211:           blk.23.ffn_gate.weight q3_K     [  4096, 14336,     1,     1 ]\n",
            "llama_model_loader: - tensor  212:             blk.23.ffn_up.weight q3_K     [  4096, 14336,     1,     1 ]\n",
            "llama_model_loader: - tensor  213:           blk.23.ffn_norm.weight f32      [  4096,     1,     1,     1 ]\n",
            "llama_model_loader: - tensor  214:             blk.23.attn_k.weight q3_K     [  4096,  1024,     1,     1 ]\n",
            "llama_model_loader: - tensor  215:        blk.23.attn_output.weight q5_K     [  4096,  4096,     1,     1 ]\n",
            "llama_model_loader: - tensor  216:             blk.23.attn_q.weight q3_K     [  4096,  4096,     1,     1 ]\n",
            "llama_model_loader: - tensor  217:             blk.23.attn_v.weight q5_K     [  4096,  1024,     1,     1 ]\n",
            "llama_model_loader: - tensor  218:          blk.24.attn_norm.weight f32      [  4096,     1,     1,     1 ]\n",
            "llama_model_loader: - tensor  219:           blk.24.ffn_down.weight q5_K     [ 14336,  4096,     1,     1 ]\n",
            "llama_model_loader: - tensor  220:           blk.24.ffn_gate.weight q3_K     [  4096, 14336,     1,     1 ]\n",
            "llama_model_loader: - tensor  221:             blk.24.ffn_up.weight q3_K     [  4096, 14336,     1,     1 ]\n",
            "llama_model_loader: - tensor  222:           blk.24.ffn_norm.weight f32      [  4096,     1,     1,     1 ]\n",
            "llama_model_loader: - tensor  223:             blk.24.attn_k.weight q3_K     [  4096,  1024,     1,     1 ]\n",
            "llama_model_loader: - tensor  224:        blk.24.attn_output.weight q5_K     [  4096,  4096,     1,     1 ]\n",
            "llama_model_loader: - tensor  225:             blk.24.attn_q.weight q3_K     [  4096,  4096,     1,     1 ]\n",
            "llama_model_loader: - tensor  226:             blk.24.attn_v.weight q5_K     [  4096,  1024,     1,     1 ]\n",
            "llama_model_loader: - tensor  227:          blk.25.attn_norm.weight f32      [  4096,     1,     1,     1 ]\n",
            "llama_model_loader: - tensor  228:           blk.25.ffn_down.weight q5_K     [ 14336,  4096,     1,     1 ]\n",
            "llama_model_loader: - tensor  229:           blk.25.ffn_gate.weight q3_K     [  4096, 14336,     1,     1 ]\n",
            "llama_model_loader: - tensor  230:             blk.25.ffn_up.weight q3_K     [  4096, 14336,     1,     1 ]\n",
            "llama_model_loader: - tensor  231:           blk.25.ffn_norm.weight f32      [  4096,     1,     1,     1 ]\n",
            "llama_model_loader: - tensor  232:             blk.25.attn_k.weight q3_K     [  4096,  1024,     1,     1 ]\n",
            "llama_model_loader: - tensor  233:        blk.25.attn_output.weight q5_K     [  4096,  4096,     1,     1 ]\n",
            "llama_model_loader: - tensor  234:             blk.25.attn_q.weight q3_K     [  4096,  4096,     1,     1 ]\n",
            "llama_model_loader: - tensor  235:             blk.25.attn_v.weight q5_K     [  4096,  1024,     1,     1 ]\n",
            "llama_model_loader: - tensor  236:          blk.26.attn_norm.weight f32      [  4096,     1,     1,     1 ]\n",
            "llama_model_loader: - tensor  237:           blk.26.ffn_down.weight q5_K     [ 14336,  4096,     1,     1 ]\n",
            "llama_model_loader: - tensor  238:           blk.26.ffn_gate.weight q3_K     [  4096, 14336,     1,     1 ]\n",
            "llama_model_loader: - tensor  239:             blk.26.ffn_up.weight q3_K     [  4096, 14336,     1,     1 ]\n",
            "llama_model_loader: - tensor  240:           blk.26.ffn_norm.weight f32      [  4096,     1,     1,     1 ]\n",
            "llama_model_loader: - tensor  241:             blk.26.attn_k.weight q3_K     [  4096,  1024,     1,     1 ]\n",
            "llama_model_loader: - tensor  242:        blk.26.attn_output.weight q5_K     [  4096,  4096,     1,     1 ]\n",
            "llama_model_loader: - tensor  243:             blk.26.attn_q.weight q3_K     [  4096,  4096,     1,     1 ]\n",
            "llama_model_loader: - tensor  244:             blk.26.attn_v.weight q5_K     [  4096,  1024,     1,     1 ]\n",
            "llama_model_loader: - tensor  245:          blk.27.attn_norm.weight f32      [  4096,     1,     1,     1 ]\n",
            "llama_model_loader: - tensor  246:           blk.27.ffn_down.weight q5_K     [ 14336,  4096,     1,     1 ]\n",
            "llama_model_loader: - tensor  247:           blk.27.ffn_gate.weight q3_K     [  4096, 14336,     1,     1 ]\n",
            "llama_model_loader: - tensor  248:             blk.27.ffn_up.weight q3_K     [  4096, 14336,     1,     1 ]\n",
            "llama_model_loader: - tensor  249:           blk.27.ffn_norm.weight f32      [  4096,     1,     1,     1 ]\n",
            "llama_model_loader: - tensor  250:             blk.27.attn_k.weight q3_K     [  4096,  1024,     1,     1 ]\n",
            "llama_model_loader: - tensor  251:        blk.27.attn_output.weight q5_K     [  4096,  4096,     1,     1 ]\n",
            "llama_model_loader: - tensor  252:             blk.27.attn_q.weight q3_K     [  4096,  4096,     1,     1 ]\n",
            "llama_model_loader: - tensor  253:             blk.27.attn_v.weight q5_K     [  4096,  1024,     1,     1 ]\n",
            "llama_model_loader: - tensor  254:          blk.28.attn_norm.weight f32      [  4096,     1,     1,     1 ]\n",
            "llama_model_loader: - tensor  255:           blk.28.ffn_down.weight q5_K     [ 14336,  4096,     1,     1 ]\n",
            "llama_model_loader: - tensor  256:           blk.28.ffn_gate.weight q3_K     [  4096, 14336,     1,     1 ]\n",
            "llama_model_loader: - tensor  257:             blk.28.ffn_up.weight q3_K     [  4096, 14336,     1,     1 ]\n",
            "llama_model_loader: - tensor  258:           blk.28.ffn_norm.weight f32      [  4096,     1,     1,     1 ]\n",
            "llama_model_loader: - tensor  259:             blk.28.attn_k.weight q3_K     [  4096,  1024,     1,     1 ]\n",
            "llama_model_loader: - tensor  260:        blk.28.attn_output.weight q5_K     [  4096,  4096,     1,     1 ]\n",
            "llama_model_loader: - tensor  261:             blk.28.attn_q.weight q3_K     [  4096,  4096,     1,     1 ]\n",
            "llama_model_loader: - tensor  262:             blk.28.attn_v.weight q5_K     [  4096,  1024,     1,     1 ]\n",
            "llama_model_loader: - tensor  263:          blk.29.attn_norm.weight f32      [  4096,     1,     1,     1 ]\n",
            "llama_model_loader: - tensor  264:           blk.29.ffn_down.weight q5_K     [ 14336,  4096,     1,     1 ]\n",
            "llama_model_loader: - tensor  265:           blk.29.ffn_gate.weight q3_K     [  4096, 14336,     1,     1 ]\n",
            "llama_model_loader: - tensor  266:             blk.29.ffn_up.weight q3_K     [  4096, 14336,     1,     1 ]\n",
            "llama_model_loader: - tensor  267:           blk.29.ffn_norm.weight f32      [  4096,     1,     1,     1 ]\n",
            "llama_model_loader: - tensor  268:             blk.29.attn_k.weight q3_K     [  4096,  1024,     1,     1 ]\n",
            "llama_model_loader: - tensor  269:        blk.29.attn_output.weight q5_K     [  4096,  4096,     1,     1 ]\n",
            "llama_model_loader: - tensor  270:             blk.29.attn_q.weight q3_K     [  4096,  4096,     1,     1 ]\n",
            "llama_model_loader: - tensor  271:             blk.29.attn_v.weight q5_K     [  4096,  1024,     1,     1 ]\n",
            "llama_model_loader: - tensor  272:          blk.30.attn_norm.weight f32      [  4096,     1,     1,     1 ]\n",
            "llama_model_loader: - tensor  273:           blk.30.ffn_down.weight q5_K     [ 14336,  4096,     1,     1 ]\n",
            "llama_model_loader: - tensor  274:           blk.30.ffn_gate.weight q3_K     [  4096, 14336,     1,     1 ]\n",
            "llama_model_loader: - tensor  275:             blk.30.ffn_up.weight q3_K     [  4096, 14336,     1,     1 ]\n",
            "llama_model_loader: - tensor  276:           blk.30.ffn_norm.weight f32      [  4096,     1,     1,     1 ]\n",
            "llama_model_loader: - tensor  277:             blk.30.attn_k.weight q3_K     [  4096,  1024,     1,     1 ]\n",
            "llama_model_loader: - tensor  278:        blk.30.attn_output.weight q5_K     [  4096,  4096,     1,     1 ]\n",
            "llama_model_loader: - tensor  279:             blk.30.attn_q.weight q3_K     [  4096,  4096,     1,     1 ]\n",
            "llama_model_loader: - tensor  280:             blk.30.attn_v.weight q5_K     [  4096,  1024,     1,     1 ]\n",
            "llama_model_loader: - tensor  281:          blk.31.attn_norm.weight f32      [  4096,     1,     1,     1 ]\n",
            "llama_model_loader: - tensor  282:           blk.31.ffn_down.weight q5_K     [ 14336,  4096,     1,     1 ]\n",
            "llama_model_loader: - tensor  283:           blk.31.ffn_gate.weight q3_K     [  4096, 14336,     1,     1 ]\n",
            "llama_model_loader: - tensor  284:             blk.31.ffn_up.weight q3_K     [  4096, 14336,     1,     1 ]\n",
            "llama_model_loader: - tensor  285:           blk.31.ffn_norm.weight f32      [  4096,     1,     1,     1 ]\n",
            "llama_model_loader: - tensor  286:             blk.31.attn_k.weight q3_K     [  4096,  1024,     1,     1 ]\n",
            "llama_model_loader: - tensor  287:        blk.31.attn_output.weight q5_K     [  4096,  4096,     1,     1 ]\n",
            "llama_model_loader: - tensor  288:             blk.31.attn_q.weight q3_K     [  4096,  4096,     1,     1 ]\n",
            "llama_model_loader: - tensor  289:             blk.31.attn_v.weight q5_K     [  4096,  1024,     1,     1 ]\n",
            "llama_model_loader: - tensor  290:               output_norm.weight f32      [  4096,     1,     1,     1 ]\n",
            "llama_model_loader: - kv   0:                       general.architecture str              = llama\n",
            "llama_model_loader: - kv   1:                               general.name str              = AIScripts\n",
            "llama_model_loader: - kv   2:                       llama.context_length u32              = 32768\n",
            "llama_model_loader: - kv   3:                     llama.embedding_length u32              = 4096\n",
            "llama_model_loader: - kv   4:                          llama.block_count u32              = 32\n",
            "llama_model_loader: - kv   5:                  llama.feed_forward_length u32              = 14336\n",
            "llama_model_loader: - kv   6:                 llama.rope.dimension_count u32              = 128\n",
            "llama_model_loader: - kv   7:                 llama.attention.head_count u32              = 32\n",
            "llama_model_loader: - kv   8:              llama.attention.head_count_kv u32              = 8\n",
            "llama_model_loader: - kv   9:     llama.attention.layer_norm_rms_epsilon f32              = 0.000010\n",
            "llama_model_loader: - kv  10:                       llama.rope.freq_base f32              = 10000.000000\n",
            "llama_model_loader: - kv  11:                          general.file_type u32              = 13\n",
            "llama_model_loader: - kv  12:                       tokenizer.ggml.model str              = llama\n",
            "llama_model_loader: - kv  13:                      tokenizer.ggml.tokens arr[str,32002]   = [\"<unk>\", \"<s>\", \"</s>\", \"<0x00>\", \"<...\n",
            "llama_model_loader: - kv  14:                      tokenizer.ggml.scores arr[f32,32002]   = [0.000000, 0.000000, 0.000000, 0.0000...\n",
            "llama_model_loader: - kv  15:                  tokenizer.ggml.token_type arr[i32,32002]   = [2, 3, 3, 6, 6, 6, 6, 6, 6, 6, 6, 6, ...\n",
            "llama_model_loader: - kv  16:                tokenizer.ggml.bos_token_id u32              = 1\n",
            "llama_model_loader: - kv  17:                tokenizer.ggml.eos_token_id u32              = 32000\n",
            "llama_model_loader: - kv  18:            tokenizer.ggml.unknown_token_id u32              = 0\n",
            "llama_model_loader: - kv  19:               tokenizer.ggml.add_bos_token bool             = true\n",
            "llama_model_loader: - kv  20:               tokenizer.ggml.add_eos_token bool             = false\n",
            "llama_model_loader: - kv  21:                    tokenizer.chat_template str              = {% for message in messages %}{{'<|im_...\n",
            "llama_model_loader: - kv  22:               general.quantization_version u32              = 2\n",
            "llama_model_loader: - type  f32:   65 tensors\n",
            "llama_model_loader: - type q3_K:  129 tensors\n",
            "llama_model_loader: - type q5_K:   96 tensors\n",
            "llama_model_loader: - type q6_K:    1 tensors\n",
            "llm_load_vocab: special tokens definition check successful ( 261/32002 ).\n",
            "llm_load_print_meta: format           = GGUF V3 (latest)\n",
            "llm_load_print_meta: arch             = llama\n",
            "llm_load_print_meta: vocab type       = SPM\n",
            "llm_load_print_meta: n_vocab          = 32002\n",
            "llm_load_print_meta: n_merges         = 0\n",
            "llm_load_print_meta: n_ctx_train      = 32768\n",
            "llm_load_print_meta: n_embd           = 4096\n",
            "llm_load_print_meta: n_head           = 32\n",
            "llm_load_print_meta: n_head_kv        = 8\n",
            "llm_load_print_meta: n_layer          = 32\n",
            "llm_load_print_meta: n_rot            = 128\n",
            "llm_load_print_meta: n_gqa            = 4\n",
            "llm_load_print_meta: f_norm_eps       = 0.0e+00\n",
            "llm_load_print_meta: f_norm_rms_eps   = 1.0e-05\n",
            "llm_load_print_meta: f_clamp_kqv      = 0.0e+00\n",
            "llm_load_print_meta: f_max_alibi_bias = 0.0e+00\n",
            "llm_load_print_meta: n_ff             = 14336\n",
            "llm_load_print_meta: rope scaling     = linear\n",
            "llm_load_print_meta: freq_base_train  = 10000.0\n",
            "llm_load_print_meta: freq_scale_train = 1\n",
            "llm_load_print_meta: n_yarn_orig_ctx  = 32768\n",
            "llm_load_print_meta: rope_finetuned   = unknown\n",
            "llm_load_print_meta: model type       = 7B\n",
            "llm_load_print_meta: model ftype      = mostly Q3_K - Large\n",
            "llm_load_print_meta: model params     = 7.24 B\n",
            "llm_load_print_meta: model size       = 3.56 GiB (4.22 BPW) \n",
            "llm_load_print_meta: general.name   = AIScripts\n",
            "llm_load_print_meta: BOS token = 1 '<s>'\n",
            "llm_load_print_meta: EOS token = 32000 '<|im_end|>'\n",
            "llm_load_print_meta: UNK token = 0 '<unk>'\n",
            "llm_load_print_meta: LF token  = 13 '<0x0A>'\n",
            "llm_load_tensors: ggml ctx size =    0.11 MiB\n",
            "llm_load_tensors: mem required  = 3644.38 MiB\n",
            "..................................................................................................\n",
            "llama_new_context_with_model: n_ctx      = 8192\n",
            "llama_new_context_with_model: freq_base  = 10000.0\n",
            "llama_new_context_with_model: freq_scale = 1\n",
            "llama_new_context_with_model: kv self size  = 1024.00 MiB\n",
            "llama_build_graph: non-view tensors processed: 740/740\n",
            "ggml_metal_init: allocating\n",
            "ggml_metal_init: found device: Apple M2\n",
            "ggml_metal_init: picking default device: Apple M2\n",
            "ggml_metal_init: default.metallib not found, loading from source\n",
            "ggml_metal_init: loading '/Users/ananshar/anaconda3/lib/python3.11/site-packages/llama_cpp/ggml-metal.metal'\n",
            "ggml_metal_init: GPU name:   Apple M2\n",
            "ggml_metal_init: GPU family: MTLGPUFamilyApple8 (1008)\n",
            "ggml_metal_init: hasUnifiedMemory              = true\n",
            "ggml_metal_init: recommendedMaxWorkingSetSize  = 10922.67 MiB\n",
            "ggml_metal_init: maxTransferRate               = built-in GPU\n",
            "llama_new_context_with_model: compute buffer total size = 555.07 MiB\n",
            "llama_new_context_with_model: max tensor size =   102.55 MiB\n",
            "ggml_metal_add_buffer: allocated 'data            ' buffer, size =  3644.98 MiB, (34971.70 / 10922.67)ggml_metal_add_buffer: warning: current allocated size is greater than the recommended max working set size\n",
            "ggml_metal_add_buffer: allocated 'kv              ' buffer, size =  1024.02 MiB, (35995.72 / 10922.67)ggml_metal_add_buffer: warning: current allocated size is greater than the recommended max working set size\n",
            "ggml_metal_add_buffer: allocated 'alloc           ' buffer, size =   552.02 MiB, (36547.73 / 10922.67)ggml_metal_add_buffer: warning: current allocated size is greater than the recommended max working set size\n"
          ]
        }
      ],
      "source": [
        "from llama_cpp import Llama\n",
        "import json\n",
        "from tqdm import tqdm\n",
        "\n",
        "system = \"Use step by step deduction to create a differential diagnosis considering the patient's symptoms, medical history, and test resultsand then use step by step deduction to determine the correct response.\"\n",
        "\n",
        "llm = Llama(\n",
        "    # path_to_model,\n",
        "    chat_format=\"chatml\",\n",
        "    n_ctx=8192,\n",
        "    n_gpu_layers=-1,\n",
        "    verbose=False,\n",
        ")"
      ]
    },
    {
      "cell_type": "code",
      "execution_count": 104,
      "metadata": {},
      "outputs": [],
      "source": [
        "examples = []"
      ]
    },
    {
      "cell_type": "code",
      "execution_count": 123,
      "metadata": {},
      "outputs": [],
      "source": [
        "context = \"\"\"Shortly after undergoing a bipolar prosthesis for a displaced femoral neck fracture of the left hip acquired after a fall the day before,\n",
        "an 80-year-old woman suddenly develops dyspnea. The surgery under general anesthesia with sevoflurane was uneventful, lasting\n",
        "98 minutes, during which the patient maintained oxygen saturation readings of 100% on 8 L of oxygen. She has a history of\n",
        "hypertension, osteoporosis, and osteoarthritis of her right knee. Her medications include ramipril, naproxen, ranitidine, and a\n",
        "multivitamin. She appears cyanotic, drowsy, and is oriented only to person. Her temperature is 38.6°C (101.5°F), pulse is\n",
        "135/minute, respirations are 36/min, and blood pressure is 155/95 mm Hg. Pulse oximetry on room air shows an oxygen saturation\n",
        "of 81%. There are several scattered petechiae on the anterior chest wall. Laboratory studies show a hemoglobin concentration of\n",
        "10.5 g/dL, a leukocyte count of 9,000/mm3, a platelet count of 145,000/mm3, and a creatine kinase of 190 U/L. An ECG shows\n",
        "sinus tachycardia.\"\"\"\n",
        "\n",
        "system = \"Considering your expertise as a healthcare professional, evaluate the patient's post-surgical symptoms and medical history to formulate a comprehensive assessment. Highlight potential conditions based on the symptoms and contextual details, ultimately identifying the most likely diagnosis along with supporting reasoning.\"\n",
        "\n",
        "question = \"\"\"What are the potential diagnoses based on the symptoms and context? Identify the most probable diagnosis with a detailed rationale.\"\"\"\n",
        "\n",
        "# question = \"\"\"What is the differential diagnosis? Then, determine the most likely diagnosis among them.\"\"\"\n",
        "\n",
        "# question = \"\"\"What is the differential diagnosis? Then, determine the most likely diagnosis among them.\"\"\"\n",
        "# question = \"What is the diagnoses considering the patient's symptoms, medical history, and test results?\"\n",
        "# question = \"What is the differential diagnosis considering the patient's symptoms, medical history, and test results? Then, determine the most likely diagnosis among them.\"\n",
        "\n",
        "input = \" Contexts: \" + context + \" Question: \" + question\n",
        "\n",
        "output = llm.create_chat_completion(\n",
        "    messages=[\n",
        "        {\"role\": \"system\", \"content\": system},\n",
        "        {\"role\": \"user\", \"content\": input},\n",
        "    ]\n",
        ")"
      ]
    },
    {
      "cell_type": "code",
      "execution_count": 124,
      "metadata": {},
      "outputs": [
        {
          "name": "stdout",
          "output_type": "stream",
          "text": [
            " The patient's symptoms include dyspnea, cyanosis, drowsiness, fever, sinus tachycardia, and petechiae. These symptoms are consistent with a diagnosis of sepsis. Other potential diagnoses include hypovolemia and anaphylaxis. The most probable diagnosis is sepsis. The patient's fever, tachycardia, and leukocytosis suggest an infectious process. Her petechiae are consistent with a disseminated intravascular coagulation (DIC) picture. Dyspnea, cyanosis, and hypoxemia are consistent with a pulmonary etiology of sepsis. The patient's history of osteoarthritis and recent surgery suggest the possibility of an intra-abdominal infection. Other potential sources of infection include the urinary tract or skin. The patient's cyanosis, drowsiness, and fever are consistent with a hypoxic state. The patient's hypovolemia is likely due to blood loss from her recent surgery. Anaphylaxis is unlikely given the lack of respiratory distress, rash, and pruritus.\n"
          ]
        }
      ],
      "source": [
        "print(output[\"choices\"][0][\"message\"][\"content\"])"
      ]
    },
    {
      "cell_type": "code",
      "execution_count": 125,
      "metadata": {},
      "outputs": [],
      "source": [
        "examples.append(\n",
        "    {\"question\": context, \"answer\": output[\"choices\"][0][\"message\"][\"content\"]}\n",
        ")"
      ]
    },
    {
      "cell_type": "code",
      "execution_count": 126,
      "metadata": {},
      "outputs": [
        {
          "data": {
            "text/plain": [
              "[{'question': 'Shortly after undergoing a bipolar prosthesis for a displaced femoral neck fracture of the left hip acquired after a fall the day before,\\nan 80-year-old woman suddenly develops dyspnea. The surgery under general anesthesia with sevoflurane was uneventful, lasting\\n98 minutes, during which the patient maintained oxygen saturation readings of 100% on 8 L of oxygen. She has a history of\\nhypertension, osteoporosis, and osteoarthritis of her right knee. Her medications include ramipril, naproxen, ranitidine, and a\\nmultivitamin. She appears cyanotic, drowsy, and is oriented only to person. Her temperature is 38.6°C (101.5°F), pulse is\\n135/minute, respirations are 36/min, and blood pressure is 155/95 mm Hg. Pulse oximetry on room air shows an oxygen saturation\\nof 81%. There are several scattered petechiae on the anterior chest wall. Laboratory studies show a hemoglobin concentration of\\n10.5 g/dL, a leukocyte count of 9,000/mm3, a platelet count of 145,000/mm3, and a creatine kinase of 190 U/L. An ECG shows\\nsinus tachycardia.',\n",
              "  'answer': \" The patient's symptoms include dyspnea, cyanosis, drowsiness, fever, sinus tachycardia, and petechiae. These symptoms are consistent with a diagnosis of sepsis. Other potential diagnoses include hypovolemia and anaphylaxis. The most probable diagnosis is sepsis. The patient's fever, tachycardia, and leukocytosis suggest an infectious process. Her petechiae are consistent with a disseminated intravascular coagulation (DIC) picture. Dyspnea, cyanosis, and hypoxemia are consistent with a pulmonary etiology of sepsis. The patient's history of osteoarthritis and recent surgery suggest the possibility of an intra-abdominal infection. Other potential sources of infection include the urinary tract or skin. The patient's cyanosis, drowsiness, and fever are consistent with a hypoxic state. The patient's hypovolemia is likely due to blood loss from her recent surgery. Anaphylaxis is unlikely given the lack of respiratory distress, rash, and pruritus.\"}]"
            ]
          },
          "execution_count": 126,
          "metadata": {},
          "output_type": "execute_result"
        }
      ],
      "source": [
        "examples"
      ]
    },
    {
      "cell_type": "code",
      "execution_count": 127,
      "metadata": {
        "colab": {
          "base_uri": "https://localhost:8080/"
        },
        "id": "51qDmslbzSD1",
        "outputId": "754ff017-ed60-4ce6-bd76-52508a249703"
      },
      "outputs": [],
      "source": [
        "context = \"\"\"A 55-year-old man comes to the emergency department because of a dry cough and severe chest pain beginning that morning. Two\n",
        "months ago, he was diagnosed with inferior wall myocardial infarction and was treated with stent implantation of the right coronary\n",
        "artery. He has a history of hypertension and hypercholesterolemia. His medications include aspirin, clopidogrel, atorvastatin, and\n",
        "enalapril. His temperature is 38.5Â°C (101.3°F), pulse is 92/min, respirations are 22/min, and blood pressure is 130/80 mm Hg.\n",
        "Cardiac examination shows a high-pitched scratching sound best heard while sitting upright and during expiration. The remainder of\n",
        "the examination shows no abnormalities. An ECG shows diffuse ST elevations. Serum studies show a troponin I of 0.005 ng/mL (N\n",
        "< 0.01).\"\"\"\n",
        "\n",
        "# question = \"\"\"What is the best possible diagnoses and reasons for it? Also give other possible diagnosis.\"\"\"\n",
        "# question = \"\"\"What is the most likely cause of this patient’s symptoms? \"\"\"\n",
        "# question = \"What is the differential diagnosis considering the patient's symptoms, medical history, and test results?\"\n",
        "\n",
        "system = \"Considering your expertise as a healthcare professional, evaluate the patient's post-surgical symptoms and medical history to formulate a comprehensive assessment. Highlight potential conditions based on the symptoms and contextual details, ultimately identifying the most likely diagnosis along with supporting reasoning.\"\n",
        "\n",
        "question = \"\"\"What are the potential diagnoses based on the symptoms and context? Identify the most probable diagnosis with a detailed rationale.\"\"\"\n",
        "\n",
        "input = \" Contexts: \" + context + \" Question: \" + question\n",
        "\n",
        "output = llm.create_chat_completion(\n",
        "    messages=[\n",
        "        {\"role\": \"system\", \"content\": system},\n",
        "        {\"role\": \"user\", \"content\": input},\n",
        "    ]\n",
        ")"
      ]
    },
    {
      "cell_type": "code",
      "execution_count": 128,
      "metadata": {},
      "outputs": [
        {
          "data": {
            "text/plain": [
              "\" The patient's symptoms include chest pain, cough, and fever. He has a history of inferior wall myocardial infarction and is status post stent implantation of the right coronary artery. His ECG shows diffuse ST elevations. Serum studies show a troponin I of 0.005 ng/mL (N < 0.01). The most likely diagnosis is acute myocardial infarction.\""
            ]
          },
          "execution_count": 128,
          "metadata": {},
          "output_type": "execute_result"
        }
      ],
      "source": [
        "output[\"choices\"][0][\"message\"][\"content\"]"
      ]
    },
    {
      "cell_type": "code",
      "execution_count": 129,
      "metadata": {},
      "outputs": [],
      "source": [
        "examples.append(\n",
        "    {\"question\": context, \"answer\": output[\"choices\"][0][\"message\"][\"content\"]}\n",
        ")"
      ]
    },
    {
      "cell_type": "code",
      "execution_count": 130,
      "metadata": {},
      "outputs": [
        {
          "data": {
            "text/plain": [
              "[{'question': 'Shortly after undergoing a bipolar prosthesis for a displaced femoral neck fracture of the left hip acquired after a fall the day before,\\nan 80-year-old woman suddenly develops dyspnea. The surgery under general anesthesia with sevoflurane was uneventful, lasting\\n98 minutes, during which the patient maintained oxygen saturation readings of 100% on 8 L of oxygen. She has a history of\\nhypertension, osteoporosis, and osteoarthritis of her right knee. Her medications include ramipril, naproxen, ranitidine, and a\\nmultivitamin. She appears cyanotic, drowsy, and is oriented only to person. Her temperature is 38.6°C (101.5°F), pulse is\\n135/minute, respirations are 36/min, and blood pressure is 155/95 mm Hg. Pulse oximetry on room air shows an oxygen saturation\\nof 81%. There are several scattered petechiae on the anterior chest wall. Laboratory studies show a hemoglobin concentration of\\n10.5 g/dL, a leukocyte count of 9,000/mm3, a platelet count of 145,000/mm3, and a creatine kinase of 190 U/L. An ECG shows\\nsinus tachycardia.',\n",
              "  'answer': \" The patient's symptoms include dyspnea, cyanosis, drowsiness, fever, sinus tachycardia, and petechiae. These symptoms are consistent with a diagnosis of sepsis. Other potential diagnoses include hypovolemia and anaphylaxis. The most probable diagnosis is sepsis. The patient's fever, tachycardia, and leukocytosis suggest an infectious process. Her petechiae are consistent with a disseminated intravascular coagulation (DIC) picture. Dyspnea, cyanosis, and hypoxemia are consistent with a pulmonary etiology of sepsis. The patient's history of osteoarthritis and recent surgery suggest the possibility of an intra-abdominal infection. Other potential sources of infection include the urinary tract or skin. The patient's cyanosis, drowsiness, and fever are consistent with a hypoxic state. The patient's hypovolemia is likely due to blood loss from her recent surgery. Anaphylaxis is unlikely given the lack of respiratory distress, rash, and pruritus.\"},\n",
              " {'question': 'A 55-year-old man comes to the emergency department because of a dry cough and severe chest pain beginning that morning. Two\\nmonths ago, he was diagnosed with inferior wall myocardial infarction and was treated with stent implantation of the right coronary\\nartery. He has a history of hypertension and hypercholesterolemia. His medications include aspirin, clopidogrel, atorvastatin, and\\nenalapril. His temperature is 38.5Â°C (101.3°F), pulse is 92/min, respirations are 22/min, and blood pressure is 130/80 mm Hg.\\nCardiac examination shows a high-pitched scratching sound best heard while sitting upright and during expiration. The remainder of\\nthe examination shows no abnormalities. An ECG shows diffuse ST elevations. Serum studies show a troponin I of 0.005 ng/mL (N\\n< 0.01).',\n",
              "  'answer': \" The patient's symptoms include chest pain, cough, and fever. He has a history of inferior wall myocardial infarction and is status post stent implantation of the right coronary artery. His ECG shows diffuse ST elevations. Serum studies show a troponin I of 0.005 ng/mL (N < 0.01). The most likely diagnosis is acute myocardial infarction.\"}]"
            ]
          },
          "execution_count": 130,
          "metadata": {},
          "output_type": "execute_result"
        }
      ],
      "source": [
        "examples"
      ]
    },
    {
      "cell_type": "code",
      "execution_count": 132,
      "metadata": {},
      "outputs": [],
      "source": [
        "context = \"\"\"A 30-year-old African American woman comes to the physician for the evaluation of a dry cough and chest discomfort for the past 3 days. During this period, the patient has had headaches, muscle aches, joint pain, fever, and chills. Ten days ago, she was hiking\t\n",
        "with her family\tin\tMississippi. The patient has asthma\tthat is\ttreated\twith an\talbuterol inhaler. Her mother has a\tlung disease treated with methotrexate. The\tpatient\thas\tsmoked\tone\tpack of\tcigarettes daily for the past 10 years. Her temperature is\t38AH °C\t(100.4AH °F). \n",
        "Physical examination shows slight wheezes throughout both lung Qields. Laboratory studies and urinalysis are positive for polysaccharide antigen. Bronchoalveolar lavage \n",
        "using silver/PAS-staining shows\tmacrophages\tQilled with a dimorphic fungus with\tseptate\thyphae.\"\"\"\n",
        "\n",
        "# question = \"\"\"What is the most likely cause of this patient’s symptoms? Explain your reasons.\"\"\"\n",
        "# question = \"What is the differential diagnosis considering the patient's symptoms, medical history, and test results?\"\n",
        "\n",
        "system = \"Considering your expertise as a healthcare professional, evaluate the patient's post-surgical symptoms and medical history to formulate a comprehensive assessment. Highlight potential conditions based on the symptoms and contextual details, ultimately identifying the most likely diagnosis along with supporting reasoning.\"\n",
        "\n",
        "question = \"\"\"What are the potential diagnoses based on the symptoms and context? Identify the most probable diagnosis with a detailed rationale.\"\"\"\n",
        "\n",
        "input = \" Contexts: \" + context + \" Question: \" + question\n",
        "\n",
        "output = llm.create_chat_completion(\n",
        "    messages=[\n",
        "        {\"role\": \"system\", \"content\": system},\n",
        "        {\"role\": \"user\", \"content\": input},\n",
        "    ]\n",
        ")"
      ]
    },
    {
      "cell_type": "code",
      "execution_count": 133,
      "metadata": {},
      "outputs": [
        {
          "data": {
            "text/plain": [
              "\" The patient has a history of smoking, asthma, and exposure to methotrexate. She also has a history of hiking in Mississippi. These factors increase the likelihood of fungal infection. The patient's symptoms are consistent with those of histoplasmosis. The presence of dimorphic fungus on bronchoalveolar lavage is also consistent with this diagnosis.\""
            ]
          },
          "execution_count": 133,
          "metadata": {},
          "output_type": "execute_result"
        }
      ],
      "source": [
        "output[\"choices\"][0][\"message\"][\"content\"]"
      ]
    },
    {
      "cell_type": "code",
      "execution_count": 134,
      "metadata": {},
      "outputs": [],
      "source": [
        "examples.append(\n",
        "    {\"question\": context, \"answer\": output[\"choices\"][0][\"message\"][\"content\"]}\n",
        ")"
      ]
    },
    {
      "cell_type": "code",
      "execution_count": 135,
      "metadata": {},
      "outputs": [
        {
          "data": {
            "text/plain": [
              "[{'question': 'Shortly after undergoing a bipolar prosthesis for a displaced femoral neck fracture of the left hip acquired after a fall the day before,\\nan 80-year-old woman suddenly develops dyspnea. The surgery under general anesthesia with sevoflurane was uneventful, lasting\\n98 minutes, during which the patient maintained oxygen saturation readings of 100% on 8 L of oxygen. She has a history of\\nhypertension, osteoporosis, and osteoarthritis of her right knee. Her medications include ramipril, naproxen, ranitidine, and a\\nmultivitamin. She appears cyanotic, drowsy, and is oriented only to person. Her temperature is 38.6°C (101.5°F), pulse is\\n135/minute, respirations are 36/min, and blood pressure is 155/95 mm Hg. Pulse oximetry on room air shows an oxygen saturation\\nof 81%. There are several scattered petechiae on the anterior chest wall. Laboratory studies show a hemoglobin concentration of\\n10.5 g/dL, a leukocyte count of 9,000/mm3, a platelet count of 145,000/mm3, and a creatine kinase of 190 U/L. An ECG shows\\nsinus tachycardia.',\n",
              "  'answer': \" The patient's symptoms include dyspnea, cyanosis, drowsiness, fever, sinus tachycardia, and petechiae. These symptoms are consistent with a diagnosis of sepsis. Other potential diagnoses include hypovolemia and anaphylaxis. The most probable diagnosis is sepsis. The patient's fever, tachycardia, and leukocytosis suggest an infectious process. Her petechiae are consistent with a disseminated intravascular coagulation (DIC) picture. Dyspnea, cyanosis, and hypoxemia are consistent with a pulmonary etiology of sepsis. The patient's history of osteoarthritis and recent surgery suggest the possibility of an intra-abdominal infection. Other potential sources of infection include the urinary tract or skin. The patient's cyanosis, drowsiness, and fever are consistent with a hypoxic state. The patient's hypovolemia is likely due to blood loss from her recent surgery. Anaphylaxis is unlikely given the lack of respiratory distress, rash, and pruritus.\"},\n",
              " {'question': 'A 55-year-old man comes to the emergency department because of a dry cough and severe chest pain beginning that morning. Two\\nmonths ago, he was diagnosed with inferior wall myocardial infarction and was treated with stent implantation of the right coronary\\nartery. He has a history of hypertension and hypercholesterolemia. His medications include aspirin, clopidogrel, atorvastatin, and\\nenalapril. His temperature is 38.5Â°C (101.3°F), pulse is 92/min, respirations are 22/min, and blood pressure is 130/80 mm Hg.\\nCardiac examination shows a high-pitched scratching sound best heard while sitting upright and during expiration. The remainder of\\nthe examination shows no abnormalities. An ECG shows diffuse ST elevations. Serum studies show a troponin I of 0.005 ng/mL (N\\n< 0.01).',\n",
              "  'answer': \" The patient's symptoms include chest pain, cough, and fever. He has a history of inferior wall myocardial infarction and is status post stent implantation of the right coronary artery. His ECG shows diffuse ST elevations. Serum studies show a troponin I of 0.005 ng/mL (N < 0.01). The most likely diagnosis is acute myocardial infarction.\"},\n",
              " {'question': 'A 30-year-old African American woman comes to the physician for the evaluation of a dry cough and chest discomfort for the past 3 days. During this period, the patient has had headaches, muscle aches, joint pain, fever, and chills. Ten days ago, she was hiking\\t\\nwith her family\\tin\\tMississippi. The patient has asthma\\tthat is\\ttreated\\twith an\\talbuterol inhaler. Her mother has a\\tlung disease treated with methotrexate. The\\tpatient\\thas\\tsmoked\\tone\\tpack of\\tcigarettes daily for the past 10 years. Her temperature is\\t38AH °C\\t(100.4AH °F). \\nPhysical examination shows slight wheezes throughout both lung Qields. Laboratory studies and urinalysis are positive for polysaccharide antigen. Bronchoalveolar lavage \\nusing silver/PAS-staining shows\\tmacrophages\\tQilled with a dimorphic fungus with\\tseptate\\thyphae.',\n",
              "  'answer': \" The patient has a history of smoking, asthma, and exposure to methotrexate. She also has a history of hiking in Mississippi. These factors increase the likelihood of fungal infection. The patient's symptoms are consistent with those of histoplasmosis. The presence of dimorphic fungus on bronchoalveolar lavage is also consistent with this diagnosis.\"}]"
            ]
          },
          "execution_count": 135,
          "metadata": {},
          "output_type": "execute_result"
        }
      ],
      "source": [
        "examples"
      ]
    },
    {
      "cell_type": "code",
      "execution_count": 137,
      "metadata": {},
      "outputs": [],
      "source": [
        "context = \"\"\"A 45-year-old male presents with abdominal pain, jaundice, and clay-colored stools for the past week. He reports no significant \n",
        "medical history but mentions recent travel to Southeast Asia. Laboratory tests show elevated liver enzymes and bilirubin.\"\"\"\n",
        "\n",
        "# question = \"\"\"What is the most likely cause of this patient’s symptoms? Explain your reasons.\"\"\"\n",
        "# question = \"What is the differential diagnosis considering the patient's symptoms, medical history, and test results?\"\n",
        "\n",
        "system = \"Considering your expertise as a healthcare professional, evaluate the patient's post-surgical symptoms and medical history to formulate a comprehensive assessment. Highlight potential conditions based on the symptoms and contextual details, ultimately identifying the most likely diagnosis along with supporting reasoning.\"\n",
        "\n",
        "question = \"\"\"What are the potential diagnoses based on the symptoms and context? Identify the most probable diagnosis with a detailed rationale.\"\"\"\n",
        "\n",
        "input = \" Contexts: \" + context + \" Question: \" + question\n",
        "\n",
        "\n",
        "output = llm.create_chat_completion(\n",
        "    messages=[\n",
        "        {\"role\": \"system\", \"content\": system},\n",
        "        {\"role\": \"user\", \"content\": input},\n",
        "    ]\n",
        ")"
      ]
    },
    {
      "cell_type": "code",
      "execution_count": 138,
      "metadata": {},
      "outputs": [
        {
          "data": {
            "text/plain": [
              "\" Based on the patient's history, laboratory results, and physical examination, the most likely diagnosis is acute hepatitis A infection. The patient has no known medical history but reports recent travel to Southeast Asia where he may have been exposed to contaminated food or water. His symptoms are consistent with an acute viral hepatitis infection, including jaundice and elevated liver enzymes. Although the patient's stools are clay-colored, this is not a specific finding for hepatitis A infection. The patient has no known history of alcohol abuse or other causes of liver disease.\""
            ]
          },
          "execution_count": 138,
          "metadata": {},
          "output_type": "execute_result"
        }
      ],
      "source": [
        "output[\"choices\"][0][\"message\"][\"content\"]"
      ]
    },
    {
      "cell_type": "code",
      "execution_count": 139,
      "metadata": {},
      "outputs": [],
      "source": [
        "examples.append(\n",
        "    {\"question\": context, \"answer\": output[\"choices\"][0][\"message\"][\"content\"]}\n",
        ")"
      ]
    },
    {
      "cell_type": "code",
      "execution_count": 140,
      "metadata": {},
      "outputs": [
        {
          "data": {
            "text/plain": [
              "[{'question': 'Shortly after undergoing a bipolar prosthesis for a displaced femoral neck fracture of the left hip acquired after a fall the day before,\\nan 80-year-old woman suddenly develops dyspnea. The surgery under general anesthesia with sevoflurane was uneventful, lasting\\n98 minutes, during which the patient maintained oxygen saturation readings of 100% on 8 L of oxygen. She has a history of\\nhypertension, osteoporosis, and osteoarthritis of her right knee. Her medications include ramipril, naproxen, ranitidine, and a\\nmultivitamin. She appears cyanotic, drowsy, and is oriented only to person. Her temperature is 38.6°C (101.5°F), pulse is\\n135/minute, respirations are 36/min, and blood pressure is 155/95 mm Hg. Pulse oximetry on room air shows an oxygen saturation\\nof 81%. There are several scattered petechiae on the anterior chest wall. Laboratory studies show a hemoglobin concentration of\\n10.5 g/dL, a leukocyte count of 9,000/mm3, a platelet count of 145,000/mm3, and a creatine kinase of 190 U/L. An ECG shows\\nsinus tachycardia.',\n",
              "  'answer': \" The patient's symptoms include dyspnea, cyanosis, drowsiness, fever, sinus tachycardia, and petechiae. These symptoms are consistent with a diagnosis of sepsis. Other potential diagnoses include hypovolemia and anaphylaxis. The most probable diagnosis is sepsis. The patient's fever, tachycardia, and leukocytosis suggest an infectious process. Her petechiae are consistent with a disseminated intravascular coagulation (DIC) picture. Dyspnea, cyanosis, and hypoxemia are consistent with a pulmonary etiology of sepsis. The patient's history of osteoarthritis and recent surgery suggest the possibility of an intra-abdominal infection. Other potential sources of infection include the urinary tract or skin. The patient's cyanosis, drowsiness, and fever are consistent with a hypoxic state. The patient's hypovolemia is likely due to blood loss from her recent surgery. Anaphylaxis is unlikely given the lack of respiratory distress, rash, and pruritus.\"},\n",
              " {'question': 'A 55-year-old man comes to the emergency department because of a dry cough and severe chest pain beginning that morning. Two\\nmonths ago, he was diagnosed with inferior wall myocardial infarction and was treated with stent implantation of the right coronary\\nartery. He has a history of hypertension and hypercholesterolemia. His medications include aspirin, clopidogrel, atorvastatin, and\\nenalapril. His temperature is 38.5Â°C (101.3°F), pulse is 92/min, respirations are 22/min, and blood pressure is 130/80 mm Hg.\\nCardiac examination shows a high-pitched scratching sound best heard while sitting upright and during expiration. The remainder of\\nthe examination shows no abnormalities. An ECG shows diffuse ST elevations. Serum studies show a troponin I of 0.005 ng/mL (N\\n< 0.01).',\n",
              "  'answer': \" The patient's symptoms include chest pain, cough, and fever. He has a history of inferior wall myocardial infarction and is status post stent implantation of the right coronary artery. His ECG shows diffuse ST elevations. Serum studies show a troponin I of 0.005 ng/mL (N < 0.01). The most likely diagnosis is acute myocardial infarction.\"},\n",
              " {'question': 'A 30-year-old African American woman comes to the physician for the evaluation of a dry cough and chest discomfort for the past 3 days. During this period, the patient has had headaches, muscle aches, joint pain, fever, and chills. Ten days ago, she was hiking\\t\\nwith her family\\tin\\tMississippi. The patient has asthma\\tthat is\\ttreated\\twith an\\talbuterol inhaler. Her mother has a\\tlung disease treated with methotrexate. The\\tpatient\\thas\\tsmoked\\tone\\tpack of\\tcigarettes daily for the past 10 years. Her temperature is\\t38AH °C\\t(100.4AH °F). \\nPhysical examination shows slight wheezes throughout both lung Qields. Laboratory studies and urinalysis are positive for polysaccharide antigen. Bronchoalveolar lavage \\nusing silver/PAS-staining shows\\tmacrophages\\tQilled with a dimorphic fungus with\\tseptate\\thyphae.',\n",
              "  'answer': \" The patient has a history of smoking, asthma, and exposure to methotrexate. She also has a history of hiking in Mississippi. These factors increase the likelihood of fungal infection. The patient's symptoms are consistent with those of histoplasmosis. The presence of dimorphic fungus on bronchoalveolar lavage is also consistent with this diagnosis.\"},\n",
              " {'question': 'A 45-year-old male presents with abdominal pain, jaundice, and clay-colored stools for the past week. He reports no significant \\nmedical history but mentions recent travel to Southeast Asia. Laboratory tests show elevated liver enzymes and bilirubin.',\n",
              "  'answer': \" Based on the patient's history, laboratory results, and physical examination, the most likely diagnosis is acute hepatitis A infection. The patient has no known medical history but reports recent travel to Southeast Asia where he may have been exposed to contaminated food or water. His symptoms are consistent with an acute viral hepatitis infection, including jaundice and elevated liver enzymes. Although the patient's stools are clay-colored, this is not a specific finding for hepatitis A infection. The patient has no known history of alcohol abuse or other causes of liver disease.\"}]"
            ]
          },
          "execution_count": 140,
          "metadata": {},
          "output_type": "execute_result"
        }
      ],
      "source": [
        "examples"
      ]
    },
    {
      "cell_type": "code",
      "execution_count": 141,
      "metadata": {},
      "outputs": [],
      "source": [
        "context = \"\"\"A 65-year-old female with a history of hypertension and long-term smoking suddenly experiences excruciating chest pain that radiates to her back. \n",
        "Physical examination indicates diminished bilateral femoral pulses.\"\"\"\n",
        "\n",
        "# question = \"\"\"What is the most likely cause of this patient’s symptoms? Explain your reasons.\"\"\"\n",
        "# question = \"What is the differential diagnosis considering the patient's symptoms, medical history, and test results?\"\n",
        "\n",
        "system = \"Considering your expertise as a healthcare professional, evaluate the patient's post-surgical symptoms and medical history to formulate a comprehensive assessment. Highlight potential conditions based on the symptoms and contextual details, ultimately identifying the most likely diagnosis along with supporting reasoning.\"\n",
        "\n",
        "question = \"\"\"What are the potential diagnoses based on the symptoms and context? Identify the most probable diagnosis with a detailed rationale.\"\"\"\n",
        "\n",
        "input = \" Contexts: \" + context + \" Question: \" + question\n",
        "\n",
        "output = llm.create_chat_completion(\n",
        "    messages=[\n",
        "        {\"role\": \"system\", \"content\": system},\n",
        "        {\"role\": \"user\", \"content\": input},\n",
        "    ]\n",
        ")"
      ]
    },
    {
      "cell_type": "code",
      "execution_count": 142,
      "metadata": {},
      "outputs": [
        {
          "data": {
            "text/plain": [
              "\" Coronary artery disease, dissection of the thoracic aorta, or aortic aneurysm rupture. The most likely diagnosis is coronary artery disease. The patient's symptoms are consistent with acute myocardial infarction (AMI). The diminished femoral pulses suggest aortic dissection or rupture. However, the absence of a history of hypertension and the lack of any previous cardiac risk factors make these diagnoses less likely. Aortic aneurysm is also unlikely as it usually occurs in older patients with long-term smoking history. The patient's symptoms are most consistent with AMI.\""
            ]
          },
          "execution_count": 142,
          "metadata": {},
          "output_type": "execute_result"
        }
      ],
      "source": [
        "output[\"choices\"][0][\"message\"][\"content\"]"
      ]
    },
    {
      "cell_type": "code",
      "execution_count": 143,
      "metadata": {},
      "outputs": [],
      "source": [
        "examples.append(\n",
        "    {\"question\": context, \"answer\": output[\"choices\"][0][\"message\"][\"content\"]}\n",
        ")"
      ]
    },
    {
      "cell_type": "code",
      "execution_count": 144,
      "metadata": {},
      "outputs": [
        {
          "data": {
            "text/plain": [
              "[{'question': 'Shortly after undergoing a bipolar prosthesis for a displaced femoral neck fracture of the left hip acquired after a fall the day before,\\nan 80-year-old woman suddenly develops dyspnea. The surgery under general anesthesia with sevoflurane was uneventful, lasting\\n98 minutes, during which the patient maintained oxygen saturation readings of 100% on 8 L of oxygen. She has a history of\\nhypertension, osteoporosis, and osteoarthritis of her right knee. Her medications include ramipril, naproxen, ranitidine, and a\\nmultivitamin. She appears cyanotic, drowsy, and is oriented only to person. Her temperature is 38.6°C (101.5°F), pulse is\\n135/minute, respirations are 36/min, and blood pressure is 155/95 mm Hg. Pulse oximetry on room air shows an oxygen saturation\\nof 81%. There are several scattered petechiae on the anterior chest wall. Laboratory studies show a hemoglobin concentration of\\n10.5 g/dL, a leukocyte count of 9,000/mm3, a platelet count of 145,000/mm3, and a creatine kinase of 190 U/L. An ECG shows\\nsinus tachycardia.',\n",
              "  'answer': \" The patient's symptoms include dyspnea, cyanosis, drowsiness, fever, sinus tachycardia, and petechiae. These symptoms are consistent with a diagnosis of sepsis. Other potential diagnoses include hypovolemia and anaphylaxis. The most probable diagnosis is sepsis. The patient's fever, tachycardia, and leukocytosis suggest an infectious process. Her petechiae are consistent with a disseminated intravascular coagulation (DIC) picture. Dyspnea, cyanosis, and hypoxemia are consistent with a pulmonary etiology of sepsis. The patient's history of osteoarthritis and recent surgery suggest the possibility of an intra-abdominal infection. Other potential sources of infection include the urinary tract or skin. The patient's cyanosis, drowsiness, and fever are consistent with a hypoxic state. The patient's hypovolemia is likely due to blood loss from her recent surgery. Anaphylaxis is unlikely given the lack of respiratory distress, rash, and pruritus.\"},\n",
              " {'question': 'A 55-year-old man comes to the emergency department because of a dry cough and severe chest pain beginning that morning. Two\\nmonths ago, he was diagnosed with inferior wall myocardial infarction and was treated with stent implantation of the right coronary\\nartery. He has a history of hypertension and hypercholesterolemia. His medications include aspirin, clopidogrel, atorvastatin, and\\nenalapril. His temperature is 38.5Â°C (101.3°F), pulse is 92/min, respirations are 22/min, and blood pressure is 130/80 mm Hg.\\nCardiac examination shows a high-pitched scratching sound best heard while sitting upright and during expiration. The remainder of\\nthe examination shows no abnormalities. An ECG shows diffuse ST elevations. Serum studies show a troponin I of 0.005 ng/mL (N\\n< 0.01).',\n",
              "  'answer': \" The patient's symptoms include chest pain, cough, and fever. He has a history of inferior wall myocardial infarction and is status post stent implantation of the right coronary artery. His ECG shows diffuse ST elevations. Serum studies show a troponin I of 0.005 ng/mL (N < 0.01). The most likely diagnosis is acute myocardial infarction.\"},\n",
              " {'question': 'A 30-year-old African American woman comes to the physician for the evaluation of a dry cough and chest discomfort for the past 3 days. During this period, the patient has had headaches, muscle aches, joint pain, fever, and chills. Ten days ago, she was hiking\\t\\nwith her family\\tin\\tMississippi. The patient has asthma\\tthat is\\ttreated\\twith an\\talbuterol inhaler. Her mother has a\\tlung disease treated with methotrexate. The\\tpatient\\thas\\tsmoked\\tone\\tpack of\\tcigarettes daily for the past 10 years. Her temperature is\\t38AH °C\\t(100.4AH °F). \\nPhysical examination shows slight wheezes throughout both lung Qields. Laboratory studies and urinalysis are positive for polysaccharide antigen. Bronchoalveolar lavage \\nusing silver/PAS-staining shows\\tmacrophages\\tQilled with a dimorphic fungus with\\tseptate\\thyphae.',\n",
              "  'answer': \" The patient has a history of smoking, asthma, and exposure to methotrexate. She also has a history of hiking in Mississippi. These factors increase the likelihood of fungal infection. The patient's symptoms are consistent with those of histoplasmosis. The presence of dimorphic fungus on bronchoalveolar lavage is also consistent with this diagnosis.\"},\n",
              " {'question': 'A 45-year-old male presents with abdominal pain, jaundice, and clay-colored stools for the past week. He reports no significant \\nmedical history but mentions recent travel to Southeast Asia. Laboratory tests show elevated liver enzymes and bilirubin.',\n",
              "  'answer': \" Based on the patient's history, laboratory results, and physical examination, the most likely diagnosis is acute hepatitis A infection. The patient has no known medical history but reports recent travel to Southeast Asia where he may have been exposed to contaminated food or water. His symptoms are consistent with an acute viral hepatitis infection, including jaundice and elevated liver enzymes. Although the patient's stools are clay-colored, this is not a specific finding for hepatitis A infection. The patient has no known history of alcohol abuse or other causes of liver disease.\"},\n",
              " {'question': 'A 65-year-old female with a history of hypertension and long-term smoking suddenly experiences excruciating chest pain that radiates to her back. \\nPhysical examination indicates diminished bilateral femoral pulses.',\n",
              "  'answer': \" Coronary artery disease, dissection of the thoracic aorta, or aortic aneurysm rupture. The most likely diagnosis is coronary artery disease. The patient's symptoms are consistent with acute myocardial infarction (AMI). The diminished femoral pulses suggest aortic dissection or rupture. However, the absence of a history of hypertension and the lack of any previous cardiac risk factors make these diagnoses less likely. Aortic aneurysm is also unlikely as it usually occurs in older patients with long-term smoking history. The patient's symptoms are most consistent with AMI.\"}]"
            ]
          },
          "execution_count": 144,
          "metadata": {},
          "output_type": "execute_result"
        }
      ],
      "source": [
        "examples"
      ]
    },
    {
      "cell_type": "code",
      "execution_count": 146,
      "metadata": {},
      "outputs": [],
      "source": [
        "context = \"\"\"A middle-aged male presents with acute abdominal pain localized to the right lower quadrant. He mentions a recent overseas trip to a tropical region and recalls consuming untreated water and uncooked seafood. The patient complains of watery diarrhea with blood and mucus, accompanied by abdominal cramping and tenesmus. Physical examination shows signs of dehydration, and laboratory studies reveal leukocytosis with eosinophilia. What is the likely cause of his symptoms?\"\"\"\n",
        "\n",
        "system = \"Considering your expertise as a healthcare professional, evaluate the patient's post-surgical symptoms and medical history to formulate a comprehensive assessment. Highlight potential conditions based on the symptoms and contextual details, ultimately identifying the most likely diagnosis along with supporting reasoning.\"\n",
        "\n",
        "question = \"\"\"What are the potential diagnoses based on the symptoms and context? Identify the most probable diagnosis with a detailed rationale.\"\"\"\n",
        "\n",
        "# question = \"\"\"What is the most likely cause of this patient’s symptoms? Explain your reasons.\"\"\"\n",
        "# question = \"What is the differential diagnosis considering the patient's symptoms, medical history, and test results?\"\n",
        "\n",
        "input = \" Contexts: \" + context + \" Question: \" + question\n",
        "\n",
        "output = llm.create_chat_completion(\n",
        "    messages=[\n",
        "        {\"role\": \"system\", \"content\": system},\n",
        "        {\"role\": \"user\", \"content\": input},\n",
        "    ]\n",
        ")"
      ]
    },
    {
      "cell_type": "code",
      "execution_count": 147,
      "metadata": {},
      "outputs": [
        {
          "data": {
            "text/plain": [
              "\" The patient's symptoms are consistent with acute gastroenteritis, which may be due to viral or bacterial infection. Given the history of recent travel to a tropical region, the most likely cause is a parasitic infection such as amebiasis or giardiasis. Other possibilities include typhoid fever and salmonella infection. The patient's symptoms are also consistent with inflammatory bowel disease (IBD), but this diagnosis is less likely given his age, absence ofassistant\\n the patient's symptoms are consistent with acute gastroenteritis, which may be due to viral or bacterial infection. Given the history of recent travel to a tropical region, the most likely cause is a parasitic infection such as amebiasis or giardiasis. Other possibilities include typhoid fever and salmonella infection. The patient's symptoms are also consistent with inflammatory bowel disease (IBD), but this diagnosis is less likely given his age, absence ofassistant\\n\""
            ]
          },
          "execution_count": 147,
          "metadata": {},
          "output_type": "execute_result"
        }
      ],
      "source": [
        "output[\"choices\"][0]['message']['content']"
      ]
    },
    {
      "cell_type": "code",
      "execution_count": 148,
      "metadata": {},
      "outputs": [],
      "source": [
        "examples.append(\n",
        "    {\"question\": context, \"answer\": output[\"choices\"][0][\"message\"][\"content\"]}\n",
        ")"
      ]
    },
    {
      "cell_type": "code",
      "execution_count": 149,
      "metadata": {},
      "outputs": [
        {
          "data": {
            "text/plain": [
              "[{'question': 'Shortly after undergoing a bipolar prosthesis for a displaced femoral neck fracture of the left hip acquired after a fall the day before,\\nan 80-year-old woman suddenly develops dyspnea. The surgery under general anesthesia with sevoflurane was uneventful, lasting\\n98 minutes, during which the patient maintained oxygen saturation readings of 100% on 8 L of oxygen. She has a history of\\nhypertension, osteoporosis, and osteoarthritis of her right knee. Her medications include ramipril, naproxen, ranitidine, and a\\nmultivitamin. She appears cyanotic, drowsy, and is oriented only to person. Her temperature is 38.6°C (101.5°F), pulse is\\n135/minute, respirations are 36/min, and blood pressure is 155/95 mm Hg. Pulse oximetry on room air shows an oxygen saturation\\nof 81%. There are several scattered petechiae on the anterior chest wall. Laboratory studies show a hemoglobin concentration of\\n10.5 g/dL, a leukocyte count of 9,000/mm3, a platelet count of 145,000/mm3, and a creatine kinase of 190 U/L. An ECG shows\\nsinus tachycardia.',\n",
              "  'answer': \" The patient's symptoms include dyspnea, cyanosis, drowsiness, fever, sinus tachycardia, and petechiae. These symptoms are consistent with a diagnosis of sepsis. Other potential diagnoses include hypovolemia and anaphylaxis. The most probable diagnosis is sepsis. The patient's fever, tachycardia, and leukocytosis suggest an infectious process. Her petechiae are consistent with a disseminated intravascular coagulation (DIC) picture. Dyspnea, cyanosis, and hypoxemia are consistent with a pulmonary etiology of sepsis. The patient's history of osteoarthritis and recent surgery suggest the possibility of an intra-abdominal infection. Other potential sources of infection include the urinary tract or skin. The patient's cyanosis, drowsiness, and fever are consistent with a hypoxic state. The patient's hypovolemia is likely due to blood loss from her recent surgery. Anaphylaxis is unlikely given the lack of respiratory distress, rash, and pruritus.\"},\n",
              " {'question': 'A 55-year-old man comes to the emergency department because of a dry cough and severe chest pain beginning that morning. Two\\nmonths ago, he was diagnosed with inferior wall myocardial infarction and was treated with stent implantation of the right coronary\\nartery. He has a history of hypertension and hypercholesterolemia. His medications include aspirin, clopidogrel, atorvastatin, and\\nenalapril. His temperature is 38.5Â°C (101.3°F), pulse is 92/min, respirations are 22/min, and blood pressure is 130/80 mm Hg.\\nCardiac examination shows a high-pitched scratching sound best heard while sitting upright and during expiration. The remainder of\\nthe examination shows no abnormalities. An ECG shows diffuse ST elevations. Serum studies show a troponin I of 0.005 ng/mL (N\\n< 0.01).',\n",
              "  'answer': \" The patient's symptoms include chest pain, cough, and fever. He has a history of inferior wall myocardial infarction and is status post stent implantation of the right coronary artery. His ECG shows diffuse ST elevations. Serum studies show a troponin I of 0.005 ng/mL (N < 0.01). The most likely diagnosis is acute myocardial infarction.\"},\n",
              " {'question': 'A 30-year-old African American woman comes to the physician for the evaluation of a dry cough and chest discomfort for the past 3 days. During this period, the patient has had headaches, muscle aches, joint pain, fever, and chills. Ten days ago, she was hiking\\t\\nwith her family\\tin\\tMississippi. The patient has asthma\\tthat is\\ttreated\\twith an\\talbuterol inhaler. Her mother has a\\tlung disease treated with methotrexate. The\\tpatient\\thas\\tsmoked\\tone\\tpack of\\tcigarettes daily for the past 10 years. Her temperature is\\t38AH °C\\t(100.4AH °F). \\nPhysical examination shows slight wheezes throughout both lung Qields. Laboratory studies and urinalysis are positive for polysaccharide antigen. Bronchoalveolar lavage \\nusing silver/PAS-staining shows\\tmacrophages\\tQilled with a dimorphic fungus with\\tseptate\\thyphae.',\n",
              "  'answer': \" The patient has a history of smoking, asthma, and exposure to methotrexate. She also has a history of hiking in Mississippi. These factors increase the likelihood of fungal infection. The patient's symptoms are consistent with those of histoplasmosis. The presence of dimorphic fungus on bronchoalveolar lavage is also consistent with this diagnosis.\"},\n",
              " {'question': 'A 45-year-old male presents with abdominal pain, jaundice, and clay-colored stools for the past week. He reports no significant \\nmedical history but mentions recent travel to Southeast Asia. Laboratory tests show elevated liver enzymes and bilirubin.',\n",
              "  'answer': \" Based on the patient's history, laboratory results, and physical examination, the most likely diagnosis is acute hepatitis A infection. The patient has no known medical history but reports recent travel to Southeast Asia where he may have been exposed to contaminated food or water. His symptoms are consistent with an acute viral hepatitis infection, including jaundice and elevated liver enzymes. Although the patient's stools are clay-colored, this is not a specific finding for hepatitis A infection. The patient has no known history of alcohol abuse or other causes of liver disease.\"},\n",
              " {'question': 'A 65-year-old female with a history of hypertension and long-term smoking suddenly experiences excruciating chest pain that radiates to her back. \\nPhysical examination indicates diminished bilateral femoral pulses.',\n",
              "  'answer': \" Coronary artery disease, dissection of the thoracic aorta, or aortic aneurysm rupture. The most likely diagnosis is coronary artery disease. The patient's symptoms are consistent with acute myocardial infarction (AMI). The diminished femoral pulses suggest aortic dissection or rupture. However, the absence of a history of hypertension and the lack of any previous cardiac risk factors make these diagnoses less likely. Aortic aneurysm is also unlikely as it usually occurs in older patients with long-term smoking history. The patient's symptoms are most consistent with AMI.\"},\n",
              " {'question': 'A middle-aged male presents with acute abdominal pain localized to the right lower quadrant. He mentions a recent overseas trip to a tropical region and recalls consuming untreated water and uncooked seafood. The patient complains of watery diarrhea with blood and mucus, accompanied by abdominal cramping and tenesmus. Physical examination shows signs of dehydration, and laboratory studies reveal leukocytosis with eosinophilia. What is the likely cause of his symptoms?',\n",
              "  'answer': \" The patient's symptoms are consistent with acute gastroenteritis, which may be due to viral or bacterial infection. Given the history of recent travel to a tropical region, the most likely cause is a parasitic infection such as amebiasis or giardiasis. Other possibilities include typhoid fever and salmonella infection. The patient's symptoms are also consistent with inflammatory bowel disease (IBD), but this diagnosis is less likely given his age, absence ofassistant\\n the patient's symptoms are consistent with acute gastroenteritis, which may be due to viral or bacterial infection. Given the history of recent travel to a tropical region, the most likely cause is a parasitic infection such as amebiasis or giardiasis. Other possibilities include typhoid fever and salmonella infection. The patient's symptoms are also consistent with inflammatory bowel disease (IBD), but this diagnosis is less likely given his age, absence ofassistant\\n\"}]"
            ]
          },
          "execution_count": 149,
          "metadata": {},
          "output_type": "execute_result"
        }
      ],
      "source": [
        "examples"
      ]
    },
    {
      "cell_type": "code",
      "execution_count": 154,
      "metadata": {},
      "outputs": [],
      "source": [
        "# context = \"\"\"A postmenopausal woman complains of sudden visual disturbances accompanied by a severe headache. She has a history of hypertension \n",
        "# and recently started anticoagulant therapy. On examination, there is evidence of retinal artery occlusion, and imaging shows evidence of an \n",
        "# acute ischemic event. What underlying condition is likely responsible for her symptoms?\"\"\"\n",
        "\n",
        "# # question = \"\"\"What is the most likely cause of this patient’s symptoms? Explain your reasons.\"\"\"\n",
        "# # question = \"What is the differential diagnosis considering the patient's symptoms, medical history, and test results?\"\n",
        "\n",
        "# system = \"Considering your expertise as a healthcare professional, evaluate the patient's post-surgical symptoms and medical history to formulate a comprehensive assessment. Highlight potential conditions based on the symptoms and contextual details, ultimately identifying the most likely diagnosis along with supporting reasoning.\"\n",
        "\n",
        "# question = \"\"\"What are the potential diagnoses based on the symptoms and context? Identify the most probable diagnosis with a detailed rationale.\"\"\"\n",
        "\n",
        "# input = \" Contexts: \" + context + \" Question: \" + question\n",
        "\n",
        "# output = llm.create_chat_completion(\n",
        "#     messages=[\n",
        "#         {\"role\": \"system\", \"content\": system},\n",
        "#         {\"role\": \"user\", \"content\": input},\n",
        "#     ]\n",
        "# )"
      ]
    },
    {
      "cell_type": "code",
      "execution_count": 155,
      "metadata": {},
      "outputs": [
        {
          "data": {
            "text/plain": [
              "''"
            ]
          },
          "execution_count": 155,
          "metadata": {},
          "output_type": "execute_result"
        }
      ],
      "source": [
        "# output[\"choices\"][0][\"message\"][\"content\"]"
      ]
    },
    {
      "cell_type": "code",
      "execution_count": null,
      "metadata": {},
      "outputs": [],
      "source": [
        "# examples.append(\n",
        "#     {\"question\": context, \"answer\": output[\"choices\"][0][\"message\"][\"content\"]}\n",
        "# )"
      ]
    },
    {
      "cell_type": "code",
      "execution_count": 156,
      "metadata": {},
      "outputs": [
        {
          "data": {
            "text/plain": [
              "[{'question': 'Shortly after undergoing a bipolar prosthesis for a displaced femoral neck fracture of the left hip acquired after a fall the day before,\\nan 80-year-old woman suddenly develops dyspnea. The surgery under general anesthesia with sevoflurane was uneventful, lasting\\n98 minutes, during which the patient maintained oxygen saturation readings of 100% on 8 L of oxygen. She has a history of\\nhypertension, osteoporosis, and osteoarthritis of her right knee. Her medications include ramipril, naproxen, ranitidine, and a\\nmultivitamin. She appears cyanotic, drowsy, and is oriented only to person. Her temperature is 38.6°C (101.5°F), pulse is\\n135/minute, respirations are 36/min, and blood pressure is 155/95 mm Hg. Pulse oximetry on room air shows an oxygen saturation\\nof 81%. There are several scattered petechiae on the anterior chest wall. Laboratory studies show a hemoglobin concentration of\\n10.5 g/dL, a leukocyte count of 9,000/mm3, a platelet count of 145,000/mm3, and a creatine kinase of 190 U/L. An ECG shows\\nsinus tachycardia.',\n",
              "  'answer': \" The patient's symptoms include dyspnea, cyanosis, drowsiness, fever, sinus tachycardia, and petechiae. These symptoms are consistent with a diagnosis of sepsis. Other potential diagnoses include hypovolemia and anaphylaxis. The most probable diagnosis is sepsis. The patient's fever, tachycardia, and leukocytosis suggest an infectious process. Her petechiae are consistent with a disseminated intravascular coagulation (DIC) picture. Dyspnea, cyanosis, and hypoxemia are consistent with a pulmonary etiology of sepsis. The patient's history of osteoarthritis and recent surgery suggest the possibility of an intra-abdominal infection. Other potential sources of infection include the urinary tract or skin. The patient's cyanosis, drowsiness, and fever are consistent with a hypoxic state. The patient's hypovolemia is likely due to blood loss from her recent surgery. Anaphylaxis is unlikely given the lack of respiratory distress, rash, and pruritus.\"},\n",
              " {'question': 'A 55-year-old man comes to the emergency department because of a dry cough and severe chest pain beginning that morning. Two\\nmonths ago, he was diagnosed with inferior wall myocardial infarction and was treated with stent implantation of the right coronary\\nartery. He has a history of hypertension and hypercholesterolemia. His medications include aspirin, clopidogrel, atorvastatin, and\\nenalapril. His temperature is 38.5Â°C (101.3°F), pulse is 92/min, respirations are 22/min, and blood pressure is 130/80 mm Hg.\\nCardiac examination shows a high-pitched scratching sound best heard while sitting upright and during expiration. The remainder of\\nthe examination shows no abnormalities. An ECG shows diffuse ST elevations. Serum studies show a troponin I of 0.005 ng/mL (N\\n< 0.01).',\n",
              "  'answer': \" The patient's symptoms include chest pain, cough, and fever. He has a history of inferior wall myocardial infarction and is status post stent implantation of the right coronary artery. His ECG shows diffuse ST elevations. Serum studies show a troponin I of 0.005 ng/mL (N < 0.01). The most likely diagnosis is acute myocardial infarction.\"},\n",
              " {'question': 'A 30-year-old African American woman comes to the physician for the evaluation of a dry cough and chest discomfort for the past 3 days. During this period, the patient has had headaches, muscle aches, joint pain, fever, and chills. Ten days ago, she was hiking\\t\\nwith her family\\tin\\tMississippi. The patient has asthma\\tthat is\\ttreated\\twith an\\talbuterol inhaler. Her mother has a\\tlung disease treated with methotrexate. The\\tpatient\\thas\\tsmoked\\tone\\tpack of\\tcigarettes daily for the past 10 years. Her temperature is\\t38AH °C\\t(100.4AH °F). \\nPhysical examination shows slight wheezes throughout both lung Qields. Laboratory studies and urinalysis are positive for polysaccharide antigen. Bronchoalveolar lavage \\nusing silver/PAS-staining shows\\tmacrophages\\tQilled with a dimorphic fungus with\\tseptate\\thyphae.',\n",
              "  'answer': \" The patient has a history of smoking, asthma, and exposure to methotrexate. She also has a history of hiking in Mississippi. These factors increase the likelihood of fungal infection. The patient's symptoms are consistent with those of histoplasmosis. The presence of dimorphic fungus on bronchoalveolar lavage is also consistent with this diagnosis.\"},\n",
              " {'question': 'A 45-year-old male presents with abdominal pain, jaundice, and clay-colored stools for the past week. He reports no significant \\nmedical history but mentions recent travel to Southeast Asia. Laboratory tests show elevated liver enzymes and bilirubin.',\n",
              "  'answer': \" Based on the patient's history, laboratory results, and physical examination, the most likely diagnosis is acute hepatitis A infection. The patient has no known medical history but reports recent travel to Southeast Asia where he may have been exposed to contaminated food or water. His symptoms are consistent with an acute viral hepatitis infection, including jaundice and elevated liver enzymes. Although the patient's stools are clay-colored, this is not a specific finding for hepatitis A infection. The patient has no known history of alcohol abuse or other causes of liver disease.\"},\n",
              " {'question': 'A 65-year-old female with a history of hypertension and long-term smoking suddenly experiences excruciating chest pain that radiates to her back. \\nPhysical examination indicates diminished bilateral femoral pulses.',\n",
              "  'answer': \" Coronary artery disease, dissection of the thoracic aorta, or aortic aneurysm rupture. The most likely diagnosis is coronary artery disease. The patient's symptoms are consistent with acute myocardial infarction (AMI). The diminished femoral pulses suggest aortic dissection or rupture. However, the absence of a history of hypertension and the lack of any previous cardiac risk factors make these diagnoses less likely. Aortic aneurysm is also unlikely as it usually occurs in older patients with long-term smoking history. The patient's symptoms are most consistent with AMI.\"},\n",
              " {'question': 'A middle-aged male presents with acute abdominal pain localized to the right lower quadrant. He mentions a recent overseas trip to a tropical region and recalls consuming untreated water and uncooked seafood. The patient complains of watery diarrhea with blood and mucus, accompanied by abdominal cramping and tenesmus. Physical examination shows signs of dehydration, and laboratory studies reveal leukocytosis with eosinophilia. What is the likely cause of his symptoms?',\n",
              "  'answer': \" The patient's symptoms are consistent with acute gastroenteritis, which may be due to viral or bacterial infection. Given the history of recent travel to a tropical region, the most likely cause is a parasitic infection such as amebiasis or giardiasis. Other possibilities include typhoid fever and salmonella infection. The patient's symptoms are also consistent with inflammatory bowel disease (IBD), but this diagnosis is less likely given his age, absence ofassistant\\n the patient's symptoms are consistent with acute gastroenteritis, which may be due to viral or bacterial infection. Given the history of recent travel to a tropical region, the most likely cause is a parasitic infection such as amebiasis or giardiasis. Other possibilities include typhoid fever and salmonella infection. The patient's symptoms are also consistent with inflammatory bowel disease (IBD), but this diagnosis is less likely given his age, absence ofassistant\\n\"}]"
            ]
          },
          "execution_count": 156,
          "metadata": {},
          "output_type": "execute_result"
        }
      ],
      "source": [
        "examples"
      ]
    },
    {
      "cell_type": "code",
      "execution_count": 157,
      "metadata": {},
      "outputs": [],
      "source": [
        "output_file = \"model_answers_2.json\"\n",
        "with open(output_file, \"w\") as file:\n",
        "    json.dump(examples, file, indent=4)"
      ]
    },
    {
      "cell_type": "code",
      "execution_count": 2,
      "metadata": {},
      "outputs": [
        {
          "data": {
            "text/plain": [
              "[{'question': 'Shortly after undergoing a bipolar prosthesis for a displaced femoral neck fracture of the left hip acquired after a fall the day before,\\nan 80-year-old woman suddenly develops dyspnea. The surgery under general anesthesia with sevoflurane was uneventful, lasting\\n98 minutes, during which the patient maintained oxygen saturation readings of 100% on 8 L of oxygen. She has a history of\\nhypertension, osteoporosis, and osteoarthritis of her right knee. Her medications include ramipril, naproxen, ranitidine, and a\\nmultivitamin. She appears cyanotic, drowsy, and is oriented only to person. Her temperature is 38.6°C (101.5°F), pulse is\\n135/minute, respirations are 36/min, and blood pressure is 155/95 mm Hg. Pulse oximetry on room air shows an oxygen saturation\\nof 81%. There are several scattered petechiae on the anterior chest wall. Laboratory studies show a hemoglobin concentration of\\n10.5 g/dL, a leukocyte count of 9,000/mm3, a platelet count of 145,000/mm3, and a creatine kinase of 190 U/L. An ECG shows\\nsinus tachycardia.',\n",
              "  'answer': \" The patient's symptoms include dyspnea, cyanosis, drowsiness, fever, sinus tachycardia, and petechiae. These symptoms are consistent with a diagnosis of sepsis. Other potential diagnoses include hypovolemia and anaphylaxis. The most probable diagnosis is sepsis. The patient's fever, tachycardia, and leukocytosis suggest an infectious process. Her petechiae are consistent with a disseminated intravascular coagulation (DIC) picture. Dyspnea, cyanosis, and hypoxemia are consistent with a pulmonary etiology of sepsis. The patient's history of osteoarthritis and recent surgery suggest the possibility of an intra-abdominal infection. Other potential sources of infection include the urinary tract or skin. The patient's cyanosis, drowsiness, and fever are consistent with a hypoxic state. The patient's hypovolemia is likely due to blood loss from her recent surgery. Anaphylaxis is unlikely given the lack of respiratory distress, rash, and pruritus.\"},\n",
              " {'question': 'A 55-year-old man comes to the emergency department because of a dry cough and severe chest pain beginning that morning. Two\\nmonths ago, he was diagnosed with inferior wall myocardial infarction and was treated with stent implantation of the right coronary\\nartery. He has a history of hypertension and hypercholesterolemia. His medications include aspirin, clopidogrel, atorvastatin, and\\nenalapril. His temperature is 38.5Â°C (101.3°F), pulse is 92/min, respirations are 22/min, and blood pressure is 130/80 mm Hg.\\nCardiac examination shows a high-pitched scratching sound best heard while sitting upright and during expiration. The remainder of\\nthe examination shows no abnormalities. An ECG shows diffuse ST elevations. Serum studies show a troponin I of 0.005 ng/mL (N\\n< 0.01).',\n",
              "  'answer': \" The patient's symptoms include chest pain, cough, and fever. He has a history of inferior wall myocardial infarction and is status post stent implantation of the right coronary artery. His ECG shows diffuse ST elevations. Serum studies show a troponin I of 0.005 ng/mL (N < 0.01). The most likely diagnosis is acute myocardial infarction.\"},\n",
              " {'question': 'A 30-year-old African American woman comes to the physician for the evaluation of a dry cough and chest discomfort for the past 3 days. During this period, the patient has had headaches, muscle aches, joint pain, fever, and chills. Ten days ago, she was hiking\\t\\nwith her family\\tin\\tMississippi. The patient has asthma\\tthat is\\ttreated\\twith an\\talbuterol inhaler. Her mother has a\\tlung disease treated with methotrexate. The\\tpatient\\thas\\tsmoked\\tone\\tpack of\\tcigarettes daily for the past 10 years. Her temperature is\\t38AH °C\\t(100.4AH °F). \\nPhysical examination shows slight wheezes throughout both lung Qields. Laboratory studies and urinalysis are positive for polysaccharide antigen. Bronchoalveolar lavage \\nusing silver/PAS-staining shows\\tmacrophages\\tQilled with a dimorphic fungus with\\tseptate\\thyphae.',\n",
              "  'answer': \" The patient has a history of smoking, asthma, and exposure to methotrexate. She also has a history of hiking in Mississippi. These factors increase the likelihood of fungal infection. The patient's symptoms are consistent with those of histoplasmosis. The presence of dimorphic fungus on bronchoalveolar lavage is also consistent with this diagnosis.\"},\n",
              " {'question': 'A 45-year-old male presents with abdominal pain, jaundice, and clay-colored stools for the past week. He reports no significant \\nmedical history but mentions recent travel to Southeast Asia. Laboratory tests show elevated liver enzymes and bilirubin.',\n",
              "  'answer': \" Based on the patient's history, laboratory results, and physical examination, the most likely diagnosis is acute hepatitis A infection. The patient has no known medical history but reports recent travel to Southeast Asia where he may have been exposed to contaminated food or water. His symptoms are consistent with an acute viral hepatitis infection, including jaundice and elevated liver enzymes. Although the patient's stools are clay-colored, this is not a specific finding for hepatitis A infection. The patient has no known history of alcohol abuse or other causes of liver disease.\"},\n",
              " {'question': 'A 65-year-old female with a history of hypertension and long-term smoking suddenly experiences excruciating chest pain that radiates to her back. \\nPhysical examination indicates diminished bilateral femoral pulses.',\n",
              "  'answer': \" Coronary artery disease, dissection of the thoracic aorta, or aortic aneurysm rupture. The most likely diagnosis is coronary artery disease. The patient's symptoms are consistent with acute myocardial infarction (AMI). The diminished femoral pulses suggest aortic dissection or rupture. However, the absence of a history of hypertension and the lack of any previous cardiac risk factors make these diagnoses less likely. Aortic aneurysm is also unlikely as it usually occurs in older patients with long-term smoking history. The patient's symptoms are most consistent with AMI.\"},\n",
              " {'question': 'A middle-aged male presents with acute abdominal pain localized to the right lower quadrant. He mentions a recent overseas trip to a tropical region and recalls consuming untreated water and uncooked seafood. The patient complains of watery diarrhea with blood and mucus, accompanied by abdominal cramping and tenesmus. Physical examination shows signs of dehydration, and laboratory studies reveal leukocytosis with eosinophilia. What is the likely cause of his symptoms?',\n",
              "  'answer': \" The patient's symptoms are consistent with acute gastroenteritis, which may be due to viral or bacterial infection. Given the history of recent travel to a tropical region, the most likely cause is a parasitic infection such as amebiasis or giardiasis. Other possibilities include typhoid fever and salmonella infection. The patient's symptoms are also consistent with inflammatory bowel disease (IBD), but this diagnosis is less likely given his age, absence ofassistant\\n the patient's symptoms are consistent with acute gastroenteritis, which may be due to viral or bacterial infection. Given the history of recent travel to a tropical region, the most likely cause is a parasitic infection such as amebiasis or giardiasis. Other possibilities include typhoid fever and salmonella infection. The patient's symptoms are also consistent with inflammatory bowel disease (IBD), but this diagnosis is less likely given his age, absence ofassistant\\n\"}]"
            ]
          },
          "execution_count": 2,
          "metadata": {},
          "output_type": "execute_result"
        }
      ],
      "source": [
        "[\"Shortly after undergoing a bipolar prosthesis for a displaced femoral neck fracture of the left hip acquired after a fall the day before,\\nan 80-year-old woman suddenly develops dyspnea. The surgery under general anesthesia with sevoflurane was uneventful, lasting\\n98 minutes, during which the patient maintained oxygen saturation readings of 100% on 8 L of oxygen. She has a history of\\nhypertension, osteoporosis, and osteoarthritis of her right knee. Her medications include ramipril, naproxen, ranitidine, and a\\nmultivitamin. She appears cyanotic, drowsy, and is oriented only to person. Her temperature is 38.6\\u00b0C (101.5\\u00b0F), pulse is\\n135/minute, respirations are 36/min, and blood pressure is 155/95 mm Hg. Pulse oximetry on room air shows an oxygen saturation\\nof 81%. There are several scattered petechiae on the anterior chest wall. Laboratory studies show a hemoglobin concentration of\\n10.5 g/dL, a leukocyte count of 9,000/mm3, a platelet count of 145,000/mm3, and a creatine kinase of 190 U/L. An ECG shows\\nsinus tachycardia.\",\n",
        "\"A 55-year-old man comes to the emergency department because of a dry cough and severe chest pain beginning that morning. Two\\nmonths ago, he was diagnosed with inferior wall myocardial infarction and was treated with stent implantation of the right coronary\\nartery. He has a history of hypertension and hypercholesterolemia. His medications include aspirin, clopidogrel, atorvastatin, and\\nenalapril. His temperature is 38.5\\u00c2\\u00b0C (101.3\\u00b0F), pulse is 92/min, respirations are 22/min, and blood pressure is 130/80 mm Hg.\\nCardiac examination shows a high-pitched scratching sound best heard while sitting upright and during expiration. The remainder of\\nthe examination shows no abnormalities. An ECG shows diffuse ST elevations. Serum studies show a troponin I of 0.005 ng/mL (N\\n< 0.01).\",\n",
        "\"A 30-year-old African American woman comes to the physician for the evaluation of a dry cough and chest discomfort for the past 3 days. During this period, the patient has had headaches, muscle aches, joint pain, fever, and chills. Ten days ago, she was hiking\\t\\nwith her family\\tin\\tMississippi. The patient has asthma\\tthat is\\ttreated\\twith an\\talbuterol inhaler. Her mother has a\\tlung disease treated with methotrexate. The\\tpatient\\thas\\tsmoked\\tone\\tpack of\\tcigarettes daily for the past 10 years. Her temperature is\\t38AH \\u00b0C\\t(100.4AH \\u00b0F). \\nPhysical examination shows slight wheezes throughout both lung Qields. Laboratory studies and urinalysis are positive for polysaccharide antigen. Bronchoalveolar lavage \\nusing silver/PAS-staining shows\\tmacrophages\\tQilled with a dimorphic fungus with\\tseptate\\thyphae.\",\n",
        "\"A 45-year-old male presents with abdominal pain, jaundice, and clay-colored stools for the past week. He reports no significant \\nmedical history but mentions recent travel to Southeast Asia. Laboratory tests show elevated liver enzymes and bilirubin.\",\n",
        "\"A 65-year-old female with a history of hypertension and long-term smoking suddenly experiences excruciating chest pain that radiates to her back. \\nPhysical examination indicates diminished bilateral femoral pulses.\",\n",
        "\"A middle-aged male presents with acute abdominal pain localized to the right lower quadrant. He mentions a recent overseas trip to a tropical region and recalls consuming untreated water and uncooked seafood. The patient complains of watery diarrhea with blood and mucus, accompanied by abdominal cramping and tenesmus. Physical examination shows signs of dehydration, and laboratory studies reveal leukocytosis with eosinophilia. What is the likely cause of his symptoms?\"\n",
        "]"
      ]
    },
    {
      "cell_type": "code",
      "execution_count": null,
      "metadata": {},
      "outputs": [],
      "source": []
    },
    {
      "cell_type": "code",
      "execution_count": 4,
      "metadata": {},
      "outputs": [
        {
          "data": {
            "text/plain": [
              "'Shortly after undergoing a bipolar prosthesis for a displaced femoral neck fracture of the left hip acquired after a fall the day before,\\nan 80-year-old woman suddenly develops dyspnea. The surgery under general anesthesia with sevoflurane was uneventful, lasting\\n98 minutes, during which the patient maintained oxygen saturation readings of 100% on 8 L of oxygen. She has a history of\\nhypertension, osteoporosis, and osteoarthritis of her right knee. Her medications include ramipril, naproxen, ranitidine, and a\\nmultivitamin. She appears cyanotic, drowsy, and is oriented only to person. Her temperature is 38.6°C (101.5°F), pulse is\\n135/minute, respirations are 36/min, and blood pressure is 155/95 mm Hg. Pulse oximetry on room air shows an oxygen saturation\\nof 81%. There are several scattered petechiae on the anterior chest wall. Laboratory studies show a hemoglobin concentration of\\n10.5 g/dL, a leukocyte count of 9,000/mm3, a platelet count of 145,000/mm3, and a creatine kinase of 190 U/L. An ECG shows\\nsinus tachycardia.'"
            ]
          },
          "execution_count": 4,
          "metadata": {},
          "output_type": "execute_result"
        }
      ],
      "source": [
        "questions[0]['question']"
      ]
    },
    {
      "cell_type": "code",
      "execution_count": null,
      "metadata": {},
      "outputs": [],
      "source": []
    }
  ],
  "metadata": {
    "colab": {
      "provenance": []
    },
    "kernelspec": {
      "display_name": "Python 3",
      "name": "python3"
    },
    "language_info": {
      "codemirror_mode": {
        "name": "ipython",
        "version": 3
      },
      "file_extension": ".py",
      "mimetype": "text/x-python",
      "name": "python",
      "nbconvert_exporter": "python",
      "pygments_lexer": "ipython3",
      "version": "3.11.5"
    }
  },
  "nbformat": 4,
  "nbformat_minor": 0
}
